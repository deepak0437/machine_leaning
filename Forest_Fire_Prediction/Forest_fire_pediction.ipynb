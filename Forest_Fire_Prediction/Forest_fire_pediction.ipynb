{
  "nbformat": 4,
  "nbformat_minor": 0,
  "metadata": {
    "colab": {
      "name": "Forest_fire_pediction.ipynb",
      "provenance": [],
      "collapsed_sections": []
    },
    "kernelspec": {
      "name": "python3",
      "display_name": "Python 3"
    },
    "language_info": {
      "name": "python"
    }
  },
  "cells": [
    {
      "cell_type": "code",
      "metadata": {
        "id": "i1ICU7WcnTLC"
      },
      "source": [
        "import datetime as dt\n",
        "import pandas as pd\n",
        "import numpy as np\n",
        "import matplotlib.pyplot as plt\n",
        "import seaborn as sns\n",
        "from sklearn.model_selection import train_test_split\n",
        "from sklearn.metrics import accuracy_score, classification_report\n",
        "from sklearn.ensemble import RandomForestRegressor"
      ],
      "execution_count": null,
      "outputs": []
    },
    {
      "cell_type": "code",
      "source": [
        "df = pd.read_csv(\"forest_fire.csv\")\n",
        "df.head()"
      ],
      "metadata": {
        "colab": {
          "base_uri": "https://localhost:8080/",
          "height": 293
        },
        "id": "x2poFRkvsXHQ",
        "outputId": "63c952c2-e949-486b-d0a1-34b8c3827027"
      },
      "execution_count": null,
      "outputs": [
        {
          "output_type": "execute_result",
          "data": {
            "text/html": [
              "<div>\n",
              "<style scoped>\n",
              "    .dataframe tbody tr th:only-of-type {\n",
              "        vertical-align: middle;\n",
              "    }\n",
              "\n",
              "    .dataframe tbody tr th {\n",
              "        vertical-align: top;\n",
              "    }\n",
              "\n",
              "    .dataframe thead th {\n",
              "        text-align: right;\n",
              "    }\n",
              "</style>\n",
              "<table border=\"1\" class=\"dataframe\">\n",
              "  <thead>\n",
              "    <tr style=\"text-align: right;\">\n",
              "      <th></th>\n",
              "      <th>latitude</th>\n",
              "      <th>longitude</th>\n",
              "      <th>brightness</th>\n",
              "      <th>scan</th>\n",
              "      <th>track</th>\n",
              "      <th>acq_date</th>\n",
              "      <th>acq_time</th>\n",
              "      <th>satellite</th>\n",
              "      <th>instrument</th>\n",
              "      <th>confidence</th>\n",
              "      <th>version</th>\n",
              "      <th>bright_t31</th>\n",
              "      <th>frp</th>\n",
              "      <th>daynight</th>\n",
              "      <th>type</th>\n",
              "    </tr>\n",
              "  </thead>\n",
              "  <tbody>\n",
              "    <tr>\n",
              "      <th>0</th>\n",
              "      <td>36.7330</td>\n",
              "      <td>36.2099</td>\n",
              "      <td>304.4</td>\n",
              "      <td>1.1</td>\n",
              "      <td>1.0</td>\n",
              "      <td>2020-01-10</td>\n",
              "      <td>1948</td>\n",
              "      <td>Terra</td>\n",
              "      <td>MODIS</td>\n",
              "      <td>60</td>\n",
              "      <td>6.03</td>\n",
              "      <td>280.9</td>\n",
              "      <td>10.8</td>\n",
              "      <td>N</td>\n",
              "      <td>2</td>\n",
              "    </tr>\n",
              "    <tr>\n",
              "      <th>1</th>\n",
              "      <td>38.0335</td>\n",
              "      <td>41.4860</td>\n",
              "      <td>302.1</td>\n",
              "      <td>3.3</td>\n",
              "      <td>1.7</td>\n",
              "      <td>2020-01-11</td>\n",
              "      <td>1106</td>\n",
              "      <td>Aqua</td>\n",
              "      <td>MODIS</td>\n",
              "      <td>51</td>\n",
              "      <td>6.03</td>\n",
              "      <td>282.5</td>\n",
              "      <td>38.7</td>\n",
              "      <td>D</td>\n",
              "      <td>0</td>\n",
              "    </tr>\n",
              "    <tr>\n",
              "      <th>2</th>\n",
              "      <td>37.7370</td>\n",
              "      <td>37.5192</td>\n",
              "      <td>301.5</td>\n",
              "      <td>1.8</td>\n",
              "      <td>1.3</td>\n",
              "      <td>2020-01-11</td>\n",
              "      <td>1106</td>\n",
              "      <td>Aqua</td>\n",
              "      <td>MODIS</td>\n",
              "      <td>45</td>\n",
              "      <td>6.03</td>\n",
              "      <td>283.9</td>\n",
              "      <td>14.9</td>\n",
              "      <td>D</td>\n",
              "      <td>0</td>\n",
              "    </tr>\n",
              "    <tr>\n",
              "      <th>3</th>\n",
              "      <td>37.7441</td>\n",
              "      <td>37.5235</td>\n",
              "      <td>303.6</td>\n",
              "      <td>1.8</td>\n",
              "      <td>1.3</td>\n",
              "      <td>2020-01-11</td>\n",
              "      <td>1106</td>\n",
              "      <td>Aqua</td>\n",
              "      <td>MODIS</td>\n",
              "      <td>49</td>\n",
              "      <td>6.03</td>\n",
              "      <td>283.7</td>\n",
              "      <td>16.6</td>\n",
              "      <td>D</td>\n",
              "      <td>0</td>\n",
              "    </tr>\n",
              "    <tr>\n",
              "      <th>4</th>\n",
              "      <td>41.2646</td>\n",
              "      <td>31.4250</td>\n",
              "      <td>305.8</td>\n",
              "      <td>1.0</td>\n",
              "      <td>1.0</td>\n",
              "      <td>2020-01-11</td>\n",
              "      <td>1107</td>\n",
              "      <td>Aqua</td>\n",
              "      <td>MODIS</td>\n",
              "      <td>0</td>\n",
              "      <td>6.03</td>\n",
              "      <td>286.7</td>\n",
              "      <td>9.0</td>\n",
              "      <td>D</td>\n",
              "      <td>2</td>\n",
              "    </tr>\n",
              "  </tbody>\n",
              "</table>\n",
              "</div>"
            ],
            "text/plain": [
              "   latitude  longitude  brightness  scan  ...  bright_t31   frp  daynight type\n",
              "0   36.7330    36.2099       304.4   1.1  ...       280.9  10.8         N    2\n",
              "1   38.0335    41.4860       302.1   3.3  ...       282.5  38.7         D    0\n",
              "2   37.7370    37.5192       301.5   1.8  ...       283.9  14.9         D    0\n",
              "3   37.7441    37.5235       303.6   1.8  ...       283.7  16.6         D    0\n",
              "4   41.2646    31.4250       305.8   1.0  ...       286.7   9.0         D    2\n",
              "\n",
              "[5 rows x 15 columns]"
            ]
          },
          "metadata": {},
          "execution_count": 2
        }
      ]
    },
    {
      "cell_type": "code",
      "source": [
        "df.shape"
      ],
      "metadata": {
        "colab": {
          "base_uri": "https://localhost:8080/"
        },
        "id": "a8b-Po_-sgk5",
        "outputId": "04a94bbf-01dd-4d44-d701-6a969b80a65b"
      },
      "execution_count": null,
      "outputs": [
        {
          "output_type": "execute_result",
          "data": {
            "text/plain": [
              "(8834, 15)"
            ]
          },
          "metadata": {},
          "execution_count": 3
        }
      ]
    },
    {
      "cell_type": "code",
      "source": [
        "df.isnull().sum()"
      ],
      "metadata": {
        "colab": {
          "base_uri": "https://localhost:8080/"
        },
        "id": "qyu3TLnUtAzj",
        "outputId": "5d79b2d8-093b-4da2-bc34-87706e45b4b1"
      },
      "execution_count": null,
      "outputs": [
        {
          "output_type": "execute_result",
          "data": {
            "text/plain": [
              "latitude      0\n",
              "longitude     0\n",
              "brightness    0\n",
              "scan          0\n",
              "track         0\n",
              "acq_date      0\n",
              "acq_time      0\n",
              "satellite     0\n",
              "instrument    0\n",
              "confidence    0\n",
              "version       0\n",
              "bright_t31    0\n",
              "frp           0\n",
              "daynight      0\n",
              "type          0\n",
              "dtype: int64"
            ]
          },
          "metadata": {},
          "execution_count": 4
        }
      ]
    },
    {
      "cell_type": "code",
      "source": [
        "df.describe()  "
      ],
      "metadata": {
        "colab": {
          "base_uri": "https://localhost:8080/",
          "height": 300
        },
        "id": "HhuGmUxytD0b",
        "outputId": "a7aec4cb-7190-43f1-e99f-b708c786f4ad"
      },
      "execution_count": null,
      "outputs": [
        {
          "output_type": "execute_result",
          "data": {
            "text/html": [
              "<div>\n",
              "<style scoped>\n",
              "    .dataframe tbody tr th:only-of-type {\n",
              "        vertical-align: middle;\n",
              "    }\n",
              "\n",
              "    .dataframe tbody tr th {\n",
              "        vertical-align: top;\n",
              "    }\n",
              "\n",
              "    .dataframe thead th {\n",
              "        text-align: right;\n",
              "    }\n",
              "</style>\n",
              "<table border=\"1\" class=\"dataframe\">\n",
              "  <thead>\n",
              "    <tr style=\"text-align: right;\">\n",
              "      <th></th>\n",
              "      <th>latitude</th>\n",
              "      <th>longitude</th>\n",
              "      <th>brightness</th>\n",
              "      <th>scan</th>\n",
              "      <th>track</th>\n",
              "      <th>acq_time</th>\n",
              "      <th>confidence</th>\n",
              "      <th>version</th>\n",
              "      <th>bright_t31</th>\n",
              "      <th>frp</th>\n",
              "      <th>type</th>\n",
              "    </tr>\n",
              "  </thead>\n",
              "  <tbody>\n",
              "    <tr>\n",
              "      <th>count</th>\n",
              "      <td>8834.000000</td>\n",
              "      <td>8834.000000</td>\n",
              "      <td>8834.000000</td>\n",
              "      <td>8834.000000</td>\n",
              "      <td>8834.000000</td>\n",
              "      <td>8834.000000</td>\n",
              "      <td>8834.000000</td>\n",
              "      <td>8.834000e+03</td>\n",
              "      <td>8834.000000</td>\n",
              "      <td>8834.000000</td>\n",
              "      <td>8834.000000</td>\n",
              "    </tr>\n",
              "    <tr>\n",
              "      <th>mean</th>\n",
              "      <td>37.910822</td>\n",
              "      <td>36.301929</td>\n",
              "      <td>320.697498</td>\n",
              "      <td>1.482850</td>\n",
              "      <td>1.172085</td>\n",
              "      <td>1152.329749</td>\n",
              "      <td>64.848313</td>\n",
              "      <td>6.030000e+00</td>\n",
              "      <td>300.998540</td>\n",
              "      <td>27.013833</td>\n",
              "      <td>0.142518</td>\n",
              "    </tr>\n",
              "    <tr>\n",
              "      <th>std</th>\n",
              "      <td>1.246701</td>\n",
              "      <td>4.342658</td>\n",
              "      <td>15.392054</td>\n",
              "      <td>0.699058</td>\n",
              "      <td>0.220570</td>\n",
              "      <td>442.448589</td>\n",
              "      <td>19.747290</td>\n",
              "      <td>7.176888e-13</td>\n",
              "      <td>10.183889</td>\n",
              "      <td>66.217968</td>\n",
              "      <td>0.516847</td>\n",
              "    </tr>\n",
              "    <tr>\n",
              "      <th>min</th>\n",
              "      <td>35.822100</td>\n",
              "      <td>25.781500</td>\n",
              "      <td>300.000000</td>\n",
              "      <td>1.000000</td>\n",
              "      <td>1.000000</td>\n",
              "      <td>2.000000</td>\n",
              "      <td>0.000000</td>\n",
              "      <td>6.030000e+00</td>\n",
              "      <td>268.300000</td>\n",
              "      <td>2.400000</td>\n",
              "      <td>0.000000</td>\n",
              "    </tr>\n",
              "    <tr>\n",
              "      <th>25%</th>\n",
              "      <td>37.084475</td>\n",
              "      <td>33.196725</td>\n",
              "      <td>308.600000</td>\n",
              "      <td>1.000000</td>\n",
              "      <td>1.000000</td>\n",
              "      <td>845.250000</td>\n",
              "      <td>54.000000</td>\n",
              "      <td>6.030000e+00</td>\n",
              "      <td>292.800000</td>\n",
              "      <td>8.200000</td>\n",
              "      <td>0.000000</td>\n",
              "    </tr>\n",
              "    <tr>\n",
              "      <th>50%</th>\n",
              "      <td>37.489250</td>\n",
              "      <td>37.457300</td>\n",
              "      <td>318.900000</td>\n",
              "      <td>1.200000</td>\n",
              "      <td>1.100000</td>\n",
              "      <td>1025.000000</td>\n",
              "      <td>66.000000</td>\n",
              "      <td>6.030000e+00</td>\n",
              "      <td>299.500000</td>\n",
              "      <td>13.500000</td>\n",
              "      <td>0.000000</td>\n",
              "    </tr>\n",
              "    <tr>\n",
              "      <th>75%</th>\n",
              "      <td>38.282275</td>\n",
              "      <td>39.723125</td>\n",
              "      <td>328.700000</td>\n",
              "      <td>1.600000</td>\n",
              "      <td>1.200000</td>\n",
              "      <td>1113.000000</td>\n",
              "      <td>77.000000</td>\n",
              "      <td>6.030000e+00</td>\n",
              "      <td>308.900000</td>\n",
              "      <td>26.500000</td>\n",
              "      <td>0.000000</td>\n",
              "    </tr>\n",
              "    <tr>\n",
              "      <th>max</th>\n",
              "      <td>41.942300</td>\n",
              "      <td>44.788000</td>\n",
              "      <td>500.000000</td>\n",
              "      <td>4.800000</td>\n",
              "      <td>2.000000</td>\n",
              "      <td>2357.000000</td>\n",
              "      <td>100.000000</td>\n",
              "      <td>6.030000e+00</td>\n",
              "      <td>330.900000</td>\n",
              "      <td>2787.600000</td>\n",
              "      <td>3.000000</td>\n",
              "    </tr>\n",
              "  </tbody>\n",
              "</table>\n",
              "</div>"
            ],
            "text/plain": [
              "          latitude    longitude  ...          frp         type\n",
              "count  8834.000000  8834.000000  ...  8834.000000  8834.000000\n",
              "mean     37.910822    36.301929  ...    27.013833     0.142518\n",
              "std       1.246701     4.342658  ...    66.217968     0.516847\n",
              "min      35.822100    25.781500  ...     2.400000     0.000000\n",
              "25%      37.084475    33.196725  ...     8.200000     0.000000\n",
              "50%      37.489250    37.457300  ...    13.500000     0.000000\n",
              "75%      38.282275    39.723125  ...    26.500000     0.000000\n",
              "max      41.942300    44.788000  ...  2787.600000     3.000000\n",
              "\n",
              "[8 rows x 11 columns]"
            ]
          },
          "metadata": {},
          "execution_count": 5
        }
      ]
    },
    {
      "cell_type": "code",
      "source": [
        "plt.figure(figsize=(11,8))\n",
        "sns.heatmap(df.corr(),annot=True,cmap='viridis', linewidths=.5)"
      ],
      "metadata": {
        "colab": {
          "base_uri": "https://localhost:8080/",
          "height": 550
        },
        "id": "qJAbKD5FtH-2",
        "outputId": "bb8e3d38-9954-4c35-bb22-1c00df5d8b75"
      },
      "execution_count": null,
      "outputs": [
        {
          "output_type": "execute_result",
          "data": {
            "text/plain": [
              "<matplotlib.axes._subplots.AxesSubplot at 0x7ff2812e1050>"
            ]
          },
          "metadata": {},
          "execution_count": 6
        },
        {
          "output_type": "display_data",
          "data": {
            "image/png": "[encoded data removed]",
            "text/plain": [
              "<Figure size 792x576 with 2 Axes>"
            ]
          },
          "metadata": {
            "needs_background": "light"
          }
        }
      ]
    },
    {
      "cell_type": "code",
      "source": [
        "df = df.drop([\"track\"], axis=1)\n",
        "df.head()"
      ],
      "metadata": {
        "colab": {
          "base_uri": "https://localhost:8080/",
          "height": 206
        },
        "id": "loHVejWKuRYE",
        "outputId": "cdc91703-d54e-4787-bbf4-f9eb968f1abb"
      },
      "execution_count": null,
      "outputs": [
        {
          "output_type": "execute_result",
          "data": {
            "text/html": [
              "<div>\n",
              "<style scoped>\n",
              "    .dataframe tbody tr th:only-of-type {\n",
              "        vertical-align: middle;\n",
              "    }\n",
              "\n",
              "    .dataframe tbody tr th {\n",
              "        vertical-align: top;\n",
              "    }\n",
              "\n",
              "    .dataframe thead th {\n",
              "        text-align: right;\n",
              "    }\n",
              "</style>\n",
              "<table border=\"1\" class=\"dataframe\">\n",
              "  <thead>\n",
              "    <tr style=\"text-align: right;\">\n",
              "      <th></th>\n",
              "      <th>latitude</th>\n",
              "      <th>longitude</th>\n",
              "      <th>brightness</th>\n",
              "      <th>scan</th>\n",
              "      <th>acq_date</th>\n",
              "      <th>acq_time</th>\n",
              "      <th>satellite</th>\n",
              "      <th>instrument</th>\n",
              "      <th>confidence</th>\n",
              "      <th>version</th>\n",
              "      <th>bright_t31</th>\n",
              "      <th>frp</th>\n",
              "      <th>daynight</th>\n",
              "      <th>type</th>\n",
              "    </tr>\n",
              "  </thead>\n",
              "  <tbody>\n",
              "    <tr>\n",
              "      <th>0</th>\n",
              "      <td>36.7330</td>\n",
              "      <td>36.2099</td>\n",
              "      <td>304.4</td>\n",
              "      <td>1.1</td>\n",
              "      <td>2020-01-10</td>\n",
              "      <td>1948</td>\n",
              "      <td>Terra</td>\n",
              "      <td>MODIS</td>\n",
              "      <td>60</td>\n",
              "      <td>6.03</td>\n",
              "      <td>280.9</td>\n",
              "      <td>10.8</td>\n",
              "      <td>N</td>\n",
              "      <td>2</td>\n",
              "    </tr>\n",
              "    <tr>\n",
              "      <th>1</th>\n",
              "      <td>38.0335</td>\n",
              "      <td>41.4860</td>\n",
              "      <td>302.1</td>\n",
              "      <td>3.3</td>\n",
              "      <td>2020-01-11</td>\n",
              "      <td>1106</td>\n",
              "      <td>Aqua</td>\n",
              "      <td>MODIS</td>\n",
              "      <td>51</td>\n",
              "      <td>6.03</td>\n",
              "      <td>282.5</td>\n",
              "      <td>38.7</td>\n",
              "      <td>D</td>\n",
              "      <td>0</td>\n",
              "    </tr>\n",
              "    <tr>\n",
              "      <th>2</th>\n",
              "      <td>37.7370</td>\n",
              "      <td>37.5192</td>\n",
              "      <td>301.5</td>\n",
              "      <td>1.8</td>\n",
              "      <td>2020-01-11</td>\n",
              "      <td>1106</td>\n",
              "      <td>Aqua</td>\n",
              "      <td>MODIS</td>\n",
              "      <td>45</td>\n",
              "      <td>6.03</td>\n",
              "      <td>283.9</td>\n",
              "      <td>14.9</td>\n",
              "      <td>D</td>\n",
              "      <td>0</td>\n",
              "    </tr>\n",
              "    <tr>\n",
              "      <th>3</th>\n",
              "      <td>37.7441</td>\n",
              "      <td>37.5235</td>\n",
              "      <td>303.6</td>\n",
              "      <td>1.8</td>\n",
              "      <td>2020-01-11</td>\n",
              "      <td>1106</td>\n",
              "      <td>Aqua</td>\n",
              "      <td>MODIS</td>\n",
              "      <td>49</td>\n",
              "      <td>6.03</td>\n",
              "      <td>283.7</td>\n",
              "      <td>16.6</td>\n",
              "      <td>D</td>\n",
              "      <td>0</td>\n",
              "    </tr>\n",
              "    <tr>\n",
              "      <th>4</th>\n",
              "      <td>41.2646</td>\n",
              "      <td>31.4250</td>\n",
              "      <td>305.8</td>\n",
              "      <td>1.0</td>\n",
              "      <td>2020-01-11</td>\n",
              "      <td>1107</td>\n",
              "      <td>Aqua</td>\n",
              "      <td>MODIS</td>\n",
              "      <td>0</td>\n",
              "      <td>6.03</td>\n",
              "      <td>286.7</td>\n",
              "      <td>9.0</td>\n",
              "      <td>D</td>\n",
              "      <td>2</td>\n",
              "    </tr>\n",
              "  </tbody>\n",
              "</table>\n",
              "</div>"
            ],
            "text/plain": [
              "   latitude  longitude  brightness  scan  ... bright_t31   frp daynight type\n",
              "0   36.7330    36.2099       304.4   1.1  ...      280.9  10.8        N    2\n",
              "1   38.0335    41.4860       302.1   3.3  ...      282.5  38.7        D    0\n",
              "2   37.7370    37.5192       301.5   1.8  ...      283.9  14.9        D    0\n",
              "3   37.7441    37.5235       303.6   1.8  ...      283.7  16.6        D    0\n",
              "4   41.2646    31.4250       305.8   1.0  ...      286.7   9.0        D    2\n",
              "\n",
              "[5 rows x 14 columns]"
            ]
          },
          "metadata": {},
          "execution_count": 7
        }
      ]
    },
    {
      "cell_type": "code",
      "source": [
        "df['scan'].value_counts()"
      ],
      "metadata": {
        "colab": {
          "base_uri": "https://localhost:8080/"
        },
        "id": "y4fPISj5vUqA",
        "outputId": "b8126110-e74e-4f3e-b038-ce7ecc1c3d60"
      },
      "execution_count": null,
      "outputs": [
        {
          "output_type": "execute_result",
          "data": {
            "text/plain": [
              "1.0    2405\n",
              "1.1    1659\n",
              "1.2     967\n",
              "1.3     554\n",
              "1.4     442\n",
              "1.5     410\n",
              "1.6     289\n",
              "1.7     255\n",
              "1.8     201\n",
              "1.9     172\n",
              "2.0     142\n",
              "2.3     114\n",
              "2.2     114\n",
              "2.1     112\n",
              "2.6      87\n",
              "2.5      87\n",
              "2.8      83\n",
              "2.7      81\n",
              "2.4      77\n",
              "3.0      67\n",
              "2.9      66\n",
              "3.4      50\n",
              "3.1      50\n",
              "3.5      49\n",
              "3.3      39\n",
              "3.6      34\n",
              "4.3      32\n",
              "3.2      28\n",
              "3.8      27\n",
              "3.7      25\n",
              "4.4      22\n",
              "4.1      19\n",
              "4.0      17\n",
              "3.9      16\n",
              "4.8      13\n",
              "4.2      11\n",
              "4.7       9\n",
              "4.5       8\n",
              "4.6       1\n",
              "Name: scan, dtype: int64"
            ]
          },
          "metadata": {},
          "execution_count": 8
        }
      ]
    },
    {
      "cell_type": "code",
      "source": [
        "df['acq_time'].value_counts()"
      ],
      "metadata": {
        "colab": {
          "base_uri": "https://localhost:8080/"
        },
        "id": "cuY_v8DCvv1L",
        "outputId": "fada20ec-90b1-450b-a63d-7859dc454bc0"
      },
      "execution_count": null,
      "outputs": [
        {
          "output_type": "execute_result",
          "data": {
            "text/plain": [
              "839     259\n",
              "1054    241\n",
              "1023    237\n",
              "820     232\n",
              "1036    225\n",
              "       ... \n",
              "2327      1\n",
              "33        1\n",
              "2008      1\n",
              "1944      1\n",
              "1133      1\n",
              "Name: acq_time, Length: 216, dtype: int64"
            ]
          },
          "metadata": {},
          "execution_count": 9
        }
      ]
    },
    {
      "cell_type": "code",
      "source": [
        "df['satellite'].value_counts()"
      ],
      "metadata": {
        "colab": {
          "base_uri": "https://localhost:8080/"
        },
        "id": "385iwTFfvzne",
        "outputId": "299e8e6e-d578-426c-9706-6a56b900b915"
      },
      "execution_count": null,
      "outputs": [
        {
          "output_type": "execute_result",
          "data": {
            "text/plain": [
              "Terra    4647\n",
              "Aqua     4187\n",
              "Name: satellite, dtype: int64"
            ]
          },
          "metadata": {},
          "execution_count": 10
        }
      ]
    },
    {
      "cell_type": "code",
      "source": [
        "df['instrument'].value_counts()"
      ],
      "metadata": {
        "colab": {
          "base_uri": "https://localhost:8080/"
        },
        "id": "IdDt6pxhvzkW",
        "outputId": "d8056a67-a0be-4f09-9d54-ef0b0dde1c3a"
      },
      "execution_count": null,
      "outputs": [
        {
          "output_type": "execute_result",
          "data": {
            "text/plain": [
              "MODIS    8834\n",
              "Name: instrument, dtype: int64"
            ]
          },
          "metadata": {},
          "execution_count": 11
        }
      ]
    },
    {
      "cell_type": "code",
      "source": [
        "df['version'].value_counts()"
      ],
      "metadata": {
        "colab": {
          "base_uri": "https://localhost:8080/"
        },
        "id": "oruQn1EFvziP",
        "outputId": "47d0a165-8b13-476c-f7f5-52ccef67b91a"
      },
      "execution_count": null,
      "outputs": [
        {
          "output_type": "execute_result",
          "data": {
            "text/plain": [
              "6.03    8834\n",
              "Name: version, dtype: int64"
            ]
          },
          "metadata": {},
          "execution_count": 12
        }
      ]
    },
    {
      "cell_type": "code",
      "source": [
        "df['daynight'].value_counts()"
      ],
      "metadata": {
        "colab": {
          "base_uri": "https://localhost:8080/"
        },
        "id": "lwcIlUUHwC-l",
        "outputId": "761d280a-9c12-4e74-e42e-3f7d9f80a663"
      },
      "execution_count": null,
      "outputs": [
        {
          "output_type": "execute_result",
          "data": {
            "text/plain": [
              "D    7087\n",
              "N    1747\n",
              "Name: daynight, dtype: int64"
            ]
          },
          "metadata": {},
          "execution_count": 13
        }
      ]
    },
    {
      "cell_type": "code",
      "source": [
        "df = df.drop([\"instrument\", \"version\"], axis= 1)\n",
        "df.head()"
      ],
      "metadata": {
        "colab": {
          "base_uri": "https://localhost:8080/",
          "height": 206
        },
        "id": "cWKY4iMCwen0",
        "outputId": "47e74767-e22f-4972-d7f7-b261f3d05c72"
      },
      "execution_count": null,
      "outputs": [
        {
          "output_type": "execute_result",
          "data": {
            "text/html": [
              "<div>\n",
              "<style scoped>\n",
              "    .dataframe tbody tr th:only-of-type {\n",
              "        vertical-align: middle;\n",
              "    }\n",
              "\n",
              "    .dataframe tbody tr th {\n",
              "        vertical-align: top;\n",
              "    }\n",
              "\n",
              "    .dataframe thead th {\n",
              "        text-align: right;\n",
              "    }\n",
              "</style>\n",
              "<table border=\"1\" class=\"dataframe\">\n",
              "  <thead>\n",
              "    <tr style=\"text-align: right;\">\n",
              "      <th></th>\n",
              "      <th>latitude</th>\n",
              "      <th>longitude</th>\n",
              "      <th>brightness</th>\n",
              "      <th>scan</th>\n",
              "      <th>acq_date</th>\n",
              "      <th>acq_time</th>\n",
              "      <th>satellite</th>\n",
              "      <th>confidence</th>\n",
              "      <th>bright_t31</th>\n",
              "      <th>frp</th>\n",
              "      <th>daynight</th>\n",
              "      <th>type</th>\n",
              "    </tr>\n",
              "  </thead>\n",
              "  <tbody>\n",
              "    <tr>\n",
              "      <th>0</th>\n",
              "      <td>36.7330</td>\n",
              "      <td>36.2099</td>\n",
              "      <td>304.4</td>\n",
              "      <td>1.1</td>\n",
              "      <td>2020-01-10</td>\n",
              "      <td>1948</td>\n",
              "      <td>Terra</td>\n",
              "      <td>60</td>\n",
              "      <td>280.9</td>\n",
              "      <td>10.8</td>\n",
              "      <td>N</td>\n",
              "      <td>2</td>\n",
              "    </tr>\n",
              "    <tr>\n",
              "      <th>1</th>\n",
              "      <td>38.0335</td>\n",
              "      <td>41.4860</td>\n",
              "      <td>302.1</td>\n",
              "      <td>3.3</td>\n",
              "      <td>2020-01-11</td>\n",
              "      <td>1106</td>\n",
              "      <td>Aqua</td>\n",
              "      <td>51</td>\n",
              "      <td>282.5</td>\n",
              "      <td>38.7</td>\n",
              "      <td>D</td>\n",
              "      <td>0</td>\n",
              "    </tr>\n",
              "    <tr>\n",
              "      <th>2</th>\n",
              "      <td>37.7370</td>\n",
              "      <td>37.5192</td>\n",
              "      <td>301.5</td>\n",
              "      <td>1.8</td>\n",
              "      <td>2020-01-11</td>\n",
              "      <td>1106</td>\n",
              "      <td>Aqua</td>\n",
              "      <td>45</td>\n",
              "      <td>283.9</td>\n",
              "      <td>14.9</td>\n",
              "      <td>D</td>\n",
              "      <td>0</td>\n",
              "    </tr>\n",
              "    <tr>\n",
              "      <th>3</th>\n",
              "      <td>37.7441</td>\n",
              "      <td>37.5235</td>\n",
              "      <td>303.6</td>\n",
              "      <td>1.8</td>\n",
              "      <td>2020-01-11</td>\n",
              "      <td>1106</td>\n",
              "      <td>Aqua</td>\n",
              "      <td>49</td>\n",
              "      <td>283.7</td>\n",
              "      <td>16.6</td>\n",
              "      <td>D</td>\n",
              "      <td>0</td>\n",
              "    </tr>\n",
              "    <tr>\n",
              "      <th>4</th>\n",
              "      <td>41.2646</td>\n",
              "      <td>31.4250</td>\n",
              "      <td>305.8</td>\n",
              "      <td>1.0</td>\n",
              "      <td>2020-01-11</td>\n",
              "      <td>1107</td>\n",
              "      <td>Aqua</td>\n",
              "      <td>0</td>\n",
              "      <td>286.7</td>\n",
              "      <td>9.0</td>\n",
              "      <td>D</td>\n",
              "      <td>2</td>\n",
              "    </tr>\n",
              "  </tbody>\n",
              "</table>\n",
              "</div>"
            ],
            "text/plain": [
              "   latitude  longitude  brightness  scan  ... bright_t31   frp daynight  type\n",
              "0   36.7330    36.2099       304.4   1.1  ...      280.9  10.8        N     2\n",
              "1   38.0335    41.4860       302.1   3.3  ...      282.5  38.7        D     0\n",
              "2   37.7370    37.5192       301.5   1.8  ...      283.9  14.9        D     0\n",
              "3   37.7441    37.5235       303.6   1.8  ...      283.7  16.6        D     0\n",
              "4   41.2646    31.4250       305.8   1.0  ...      286.7   9.0        D     2\n",
              "\n",
              "[5 rows x 12 columns]"
            ]
          },
          "metadata": {},
          "execution_count": 14
        }
      ]
    },
    {
      "cell_type": "code",
      "source": [
        "daynight_map = {\"D\":1, \"N\":0}\n",
        "satellite_map = {\"Terra\":1, \"Aqua\":0}\n",
        "\n",
        "df['daynight'] = df['daynight'].map(daynight_map)\n",
        "df['satellite'] = df['satellite'].map(satellite_map)\n",
        "\n",
        "df.head()"
      ],
      "metadata": {
        "colab": {
          "base_uri": "https://localhost:8080/",
          "height": 206
        },
        "id": "SYNlDx_ywuQY",
        "outputId": "0bc22643-e9f5-4063-e610-f4643415eb29"
      },
      "execution_count": null,
      "outputs": [
        {
          "output_type": "execute_result",
          "data": {
            "text/html": [
              "<div>\n",
              "<style scoped>\n",
              "    .dataframe tbody tr th:only-of-type {\n",
              "        vertical-align: middle;\n",
              "    }\n",
              "\n",
              "    .dataframe tbody tr th {\n",
              "        vertical-align: top;\n",
              "    }\n",
              "\n",
              "    .dataframe thead th {\n",
              "        text-align: right;\n",
              "    }\n",
              "</style>\n",
              "<table border=\"1\" class=\"dataframe\">\n",
              "  <thead>\n",
              "    <tr style=\"text-align: right;\">\n",
              "      <th></th>\n",
              "      <th>latitude</th>\n",
              "      <th>longitude</th>\n",
              "      <th>brightness</th>\n",
              "      <th>scan</th>\n",
              "      <th>acq_date</th>\n",
              "      <th>acq_time</th>\n",
              "      <th>satellite</th>\n",
              "      <th>confidence</th>\n",
              "      <th>bright_t31</th>\n",
              "      <th>frp</th>\n",
              "      <th>daynight</th>\n",
              "      <th>type</th>\n",
              "    </tr>\n",
              "  </thead>\n",
              "  <tbody>\n",
              "    <tr>\n",
              "      <th>0</th>\n",
              "      <td>36.7330</td>\n",
              "      <td>36.2099</td>\n",
              "      <td>304.4</td>\n",
              "      <td>1.1</td>\n",
              "      <td>2020-01-10</td>\n",
              "      <td>1948</td>\n",
              "      <td>1</td>\n",
              "      <td>60</td>\n",
              "      <td>280.9</td>\n",
              "      <td>10.8</td>\n",
              "      <td>0</td>\n",
              "      <td>2</td>\n",
              "    </tr>\n",
              "    <tr>\n",
              "      <th>1</th>\n",
              "      <td>38.0335</td>\n",
              "      <td>41.4860</td>\n",
              "      <td>302.1</td>\n",
              "      <td>3.3</td>\n",
              "      <td>2020-01-11</td>\n",
              "      <td>1106</td>\n",
              "      <td>0</td>\n",
              "      <td>51</td>\n",
              "      <td>282.5</td>\n",
              "      <td>38.7</td>\n",
              "      <td>1</td>\n",
              "      <td>0</td>\n",
              "    </tr>\n",
              "    <tr>\n",
              "      <th>2</th>\n",
              "      <td>37.7370</td>\n",
              "      <td>37.5192</td>\n",
              "      <td>301.5</td>\n",
              "      <td>1.8</td>\n",
              "      <td>2020-01-11</td>\n",
              "      <td>1106</td>\n",
              "      <td>0</td>\n",
              "      <td>45</td>\n",
              "      <td>283.9</td>\n",
              "      <td>14.9</td>\n",
              "      <td>1</td>\n",
              "      <td>0</td>\n",
              "    </tr>\n",
              "    <tr>\n",
              "      <th>3</th>\n",
              "      <td>37.7441</td>\n",
              "      <td>37.5235</td>\n",
              "      <td>303.6</td>\n",
              "      <td>1.8</td>\n",
              "      <td>2020-01-11</td>\n",
              "      <td>1106</td>\n",
              "      <td>0</td>\n",
              "      <td>49</td>\n",
              "      <td>283.7</td>\n",
              "      <td>16.6</td>\n",
              "      <td>1</td>\n",
              "      <td>0</td>\n",
              "    </tr>\n",
              "    <tr>\n",
              "      <th>4</th>\n",
              "      <td>41.2646</td>\n",
              "      <td>31.4250</td>\n",
              "      <td>305.8</td>\n",
              "      <td>1.0</td>\n",
              "      <td>2020-01-11</td>\n",
              "      <td>1107</td>\n",
              "      <td>0</td>\n",
              "      <td>0</td>\n",
              "      <td>286.7</td>\n",
              "      <td>9.0</td>\n",
              "      <td>1</td>\n",
              "      <td>2</td>\n",
              "    </tr>\n",
              "  </tbody>\n",
              "</table>\n",
              "</div>"
            ],
            "text/plain": [
              "   latitude  longitude  brightness  scan  ... bright_t31   frp  daynight  type\n",
              "0   36.7330    36.2099       304.4   1.1  ...      280.9  10.8         0     2\n",
              "1   38.0335    41.4860       302.1   3.3  ...      282.5  38.7         1     0\n",
              "2   37.7370    37.5192       301.5   1.8  ...      283.9  14.9         1     0\n",
              "3   37.7441    37.5235       303.6   1.8  ...      283.7  16.6         1     0\n",
              "4   41.2646    31.4250       305.8   1.0  ...      286.7   9.0         1     2\n",
              "\n",
              "[5 rows x 12 columns]"
            ]
          },
          "metadata": {},
          "execution_count": 15
        }
      ]
    },
    {
      "cell_type": "code",
      "source": [
        "df['type'].value_counts()"
      ],
      "metadata": {
        "colab": {
          "base_uri": "https://localhost:8080/"
        },
        "id": "KxUsIMbNx9Ff",
        "outputId": "79bc6739-2b8c-43a4-b7f9-6607545d8b53"
      },
      "execution_count": null,
      "outputs": [
        {
          "output_type": "execute_result",
          "data": {
            "text/plain": [
              "0    8208\n",
              "2     619\n",
              "3       7\n",
              "Name: type, dtype: int64"
            ]
          },
          "metadata": {},
          "execution_count": 16
        }
      ]
    },
    {
      "cell_type": "code",
      "source": [
        "types = pd.get_dummies(df['type'])\n",
        "df = pd.concat([df, types], axis=1)\n",
        "\n",
        "df = df.drop([\"type\"], axis=1)\n",
        "df.head()"
      ],
      "metadata": {
        "colab": {
          "base_uri": "https://localhost:8080/",
          "height": 206
        },
        "id": "SHhJJCbFyHKj",
        "outputId": "22dc5e63-800d-4fcc-ed10-576c69172920"
      },
      "execution_count": null,
      "outputs": [
        {
          "output_type": "execute_result",
          "data": {
            "text/html": [
              "<div>\n",
              "<style scoped>\n",
              "    .dataframe tbody tr th:only-of-type {\n",
              "        vertical-align: middle;\n",
              "    }\n",
              "\n",
              "    .dataframe tbody tr th {\n",
              "        vertical-align: top;\n",
              "    }\n",
              "\n",
              "    .dataframe thead th {\n",
              "        text-align: right;\n",
              "    }\n",
              "</style>\n",
              "<table border=\"1\" class=\"dataframe\">\n",
              "  <thead>\n",
              "    <tr style=\"text-align: right;\">\n",
              "      <th></th>\n",
              "      <th>latitude</th>\n",
              "      <th>longitude</th>\n",
              "      <th>brightness</th>\n",
              "      <th>scan</th>\n",
              "      <th>acq_date</th>\n",
              "      <th>acq_time</th>\n",
              "      <th>satellite</th>\n",
              "      <th>confidence</th>\n",
              "      <th>bright_t31</th>\n",
              "      <th>frp</th>\n",
              "      <th>daynight</th>\n",
              "      <th>0</th>\n",
              "      <th>2</th>\n",
              "      <th>3</th>\n",
              "    </tr>\n",
              "  </thead>\n",
              "  <tbody>\n",
              "    <tr>\n",
              "      <th>0</th>\n",
              "      <td>36.7330</td>\n",
              "      <td>36.2099</td>\n",
              "      <td>304.4</td>\n",
              "      <td>1.1</td>\n",
              "      <td>2020-01-10</td>\n",
              "      <td>1948</td>\n",
              "      <td>1</td>\n",
              "      <td>60</td>\n",
              "      <td>280.9</td>\n",
              "      <td>10.8</td>\n",
              "      <td>0</td>\n",
              "      <td>0</td>\n",
              "      <td>1</td>\n",
              "      <td>0</td>\n",
              "    </tr>\n",
              "    <tr>\n",
              "      <th>1</th>\n",
              "      <td>38.0335</td>\n",
              "      <td>41.4860</td>\n",
              "      <td>302.1</td>\n",
              "      <td>3.3</td>\n",
              "      <td>2020-01-11</td>\n",
              "      <td>1106</td>\n",
              "      <td>0</td>\n",
              "      <td>51</td>\n",
              "      <td>282.5</td>\n",
              "      <td>38.7</td>\n",
              "      <td>1</td>\n",
              "      <td>1</td>\n",
              "      <td>0</td>\n",
              "      <td>0</td>\n",
              "    </tr>\n",
              "    <tr>\n",
              "      <th>2</th>\n",
              "      <td>37.7370</td>\n",
              "      <td>37.5192</td>\n",
              "      <td>301.5</td>\n",
              "      <td>1.8</td>\n",
              "      <td>2020-01-11</td>\n",
              "      <td>1106</td>\n",
              "      <td>0</td>\n",
              "      <td>45</td>\n",
              "      <td>283.9</td>\n",
              "      <td>14.9</td>\n",
              "      <td>1</td>\n",
              "      <td>1</td>\n",
              "      <td>0</td>\n",
              "      <td>0</td>\n",
              "    </tr>\n",
              "    <tr>\n",
              "      <th>3</th>\n",
              "      <td>37.7441</td>\n",
              "      <td>37.5235</td>\n",
              "      <td>303.6</td>\n",
              "      <td>1.8</td>\n",
              "      <td>2020-01-11</td>\n",
              "      <td>1106</td>\n",
              "      <td>0</td>\n",
              "      <td>49</td>\n",
              "      <td>283.7</td>\n",
              "      <td>16.6</td>\n",
              "      <td>1</td>\n",
              "      <td>1</td>\n",
              "      <td>0</td>\n",
              "      <td>0</td>\n",
              "    </tr>\n",
              "    <tr>\n",
              "      <th>4</th>\n",
              "      <td>41.2646</td>\n",
              "      <td>31.4250</td>\n",
              "      <td>305.8</td>\n",
              "      <td>1.0</td>\n",
              "      <td>2020-01-11</td>\n",
              "      <td>1107</td>\n",
              "      <td>0</td>\n",
              "      <td>0</td>\n",
              "      <td>286.7</td>\n",
              "      <td>9.0</td>\n",
              "      <td>1</td>\n",
              "      <td>0</td>\n",
              "      <td>1</td>\n",
              "      <td>0</td>\n",
              "    </tr>\n",
              "  </tbody>\n",
              "</table>\n",
              "</div>"
            ],
            "text/plain": [
              "   latitude  longitude  brightness  scan    acq_date  ...   frp  daynight  0  2  3\n",
              "0   36.7330    36.2099       304.4   1.1  2020-01-10  ...  10.8         0  0  1  0\n",
              "1   38.0335    41.4860       302.1   3.3  2020-01-11  ...  38.7         1  1  0  0\n",
              "2   37.7370    37.5192       301.5   1.8  2020-01-11  ...  14.9         1  1  0  0\n",
              "3   37.7441    37.5235       303.6   1.8  2020-01-11  ...  16.6         1  1  0  0\n",
              "4   41.2646    31.4250       305.8   1.0  2020-01-11  ...   9.0         1  0  1  0\n",
              "\n",
              "[5 rows x 14 columns]"
            ]
          },
          "metadata": {},
          "execution_count": 17
        }
      ]
    },
    {
      "cell_type": "code",
      "source": [
        " df = df.rename(columns={0:\"type_0\", 2:\"type_2\", 3:\"type_3\"})\n",
        " df.head()"
      ],
      "metadata": {
        "colab": {
          "base_uri": "https://localhost:8080/",
          "height": 206
        },
        "id": "5Zcp4-Loyo_d",
        "outputId": "878490f7-06b0-4b46-c079-69ba659f865f"
      },
      "execution_count": null,
      "outputs": [
        {
          "output_type": "execute_result",
          "data": {
            "text/html": [
              "<div>\n",
              "<style scoped>\n",
              "    .dataframe tbody tr th:only-of-type {\n",
              "        vertical-align: middle;\n",
              "    }\n",
              "\n",
              "    .dataframe tbody tr th {\n",
              "        vertical-align: top;\n",
              "    }\n",
              "\n",
              "    .dataframe thead th {\n",
              "        text-align: right;\n",
              "    }\n",
              "</style>\n",
              "<table border=\"1\" class=\"dataframe\">\n",
              "  <thead>\n",
              "    <tr style=\"text-align: right;\">\n",
              "      <th></th>\n",
              "      <th>latitude</th>\n",
              "      <th>longitude</th>\n",
              "      <th>brightness</th>\n",
              "      <th>scan</th>\n",
              "      <th>acq_date</th>\n",
              "      <th>acq_time</th>\n",
              "      <th>satellite</th>\n",
              "      <th>confidence</th>\n",
              "      <th>bright_t31</th>\n",
              "      <th>frp</th>\n",
              "      <th>daynight</th>\n",
              "      <th>type_0</th>\n",
              "      <th>type_2</th>\n",
              "      <th>type_3</th>\n",
              "    </tr>\n",
              "  </thead>\n",
              "  <tbody>\n",
              "    <tr>\n",
              "      <th>0</th>\n",
              "      <td>36.7330</td>\n",
              "      <td>36.2099</td>\n",
              "      <td>304.4</td>\n",
              "      <td>1.1</td>\n",
              "      <td>2020-01-10</td>\n",
              "      <td>1948</td>\n",
              "      <td>1</td>\n",
              "      <td>60</td>\n",
              "      <td>280.9</td>\n",
              "      <td>10.8</td>\n",
              "      <td>0</td>\n",
              "      <td>0</td>\n",
              "      <td>1</td>\n",
              "      <td>0</td>\n",
              "    </tr>\n",
              "    <tr>\n",
              "      <th>1</th>\n",
              "      <td>38.0335</td>\n",
              "      <td>41.4860</td>\n",
              "      <td>302.1</td>\n",
              "      <td>3.3</td>\n",
              "      <td>2020-01-11</td>\n",
              "      <td>1106</td>\n",
              "      <td>0</td>\n",
              "      <td>51</td>\n",
              "      <td>282.5</td>\n",
              "      <td>38.7</td>\n",
              "      <td>1</td>\n",
              "      <td>1</td>\n",
              "      <td>0</td>\n",
              "      <td>0</td>\n",
              "    </tr>\n",
              "    <tr>\n",
              "      <th>2</th>\n",
              "      <td>37.7370</td>\n",
              "      <td>37.5192</td>\n",
              "      <td>301.5</td>\n",
              "      <td>1.8</td>\n",
              "      <td>2020-01-11</td>\n",
              "      <td>1106</td>\n",
              "      <td>0</td>\n",
              "      <td>45</td>\n",
              "      <td>283.9</td>\n",
              "      <td>14.9</td>\n",
              "      <td>1</td>\n",
              "      <td>1</td>\n",
              "      <td>0</td>\n",
              "      <td>0</td>\n",
              "    </tr>\n",
              "    <tr>\n",
              "      <th>3</th>\n",
              "      <td>37.7441</td>\n",
              "      <td>37.5235</td>\n",
              "      <td>303.6</td>\n",
              "      <td>1.8</td>\n",
              "      <td>2020-01-11</td>\n",
              "      <td>1106</td>\n",
              "      <td>0</td>\n",
              "      <td>49</td>\n",
              "      <td>283.7</td>\n",
              "      <td>16.6</td>\n",
              "      <td>1</td>\n",
              "      <td>1</td>\n",
              "      <td>0</td>\n",
              "      <td>0</td>\n",
              "    </tr>\n",
              "    <tr>\n",
              "      <th>4</th>\n",
              "      <td>41.2646</td>\n",
              "      <td>31.4250</td>\n",
              "      <td>305.8</td>\n",
              "      <td>1.0</td>\n",
              "      <td>2020-01-11</td>\n",
              "      <td>1107</td>\n",
              "      <td>0</td>\n",
              "      <td>0</td>\n",
              "      <td>286.7</td>\n",
              "      <td>9.0</td>\n",
              "      <td>1</td>\n",
              "      <td>0</td>\n",
              "      <td>1</td>\n",
              "      <td>0</td>\n",
              "    </tr>\n",
              "  </tbody>\n",
              "</table>\n",
              "</div>"
            ],
            "text/plain": [
              "   latitude  longitude  brightness  scan  ... daynight  type_0  type_2  type_3\n",
              "0   36.7330    36.2099       304.4   1.1  ...        0       0       1       0\n",
              "1   38.0335    41.4860       302.1   3.3  ...        1       1       0       0\n",
              "2   37.7370    37.5192       301.5   1.8  ...        1       1       0       0\n",
              "3   37.7441    37.5235       303.6   1.8  ...        1       1       0       0\n",
              "4   41.2646    31.4250       305.8   1.0  ...        1       0       1       0\n",
              "\n",
              "[5 rows x 14 columns]"
            ]
          },
          "metadata": {},
          "execution_count": 18
        }
      ]
    },
    {
      "cell_type": "code",
      "source": [
        "bins = [0, 1, 2, 3, 4, 5]\n",
        "labels = [1,2,3,4,5]\n",
        "\n",
        "df[\"scan_binned\"] = pd.cut(df['scan'], bins = bins, labels = labels)\n",
        "df.head()"
      ],
      "metadata": {
        "colab": {
          "base_uri": "https://localhost:8080/",
          "height": 313
        },
        "id": "hEqezvhszK6I",
        "outputId": "86655152-6120-4fe1-be4e-458b932af1cb"
      },
      "execution_count": null,
      "outputs": [
        {
          "output_type": "execute_result",
          "data": {
            "text/html": [
              "<div>\n",
              "<style scoped>\n",
              "    .dataframe tbody tr th:only-of-type {\n",
              "        vertical-align: middle;\n",
              "    }\n",
              "\n",
              "    .dataframe tbody tr th {\n",
              "        vertical-align: top;\n",
              "    }\n",
              "\n",
              "    .dataframe thead th {\n",
              "        text-align: right;\n",
              "    }\n",
              "</style>\n",
              "<table border=\"1\" class=\"dataframe\">\n",
              "  <thead>\n",
              "    <tr style=\"text-align: right;\">\n",
              "      <th></th>\n",
              "      <th>latitude</th>\n",
              "      <th>longitude</th>\n",
              "      <th>brightness</th>\n",
              "      <th>scan</th>\n",
              "      <th>acq_date</th>\n",
              "      <th>acq_time</th>\n",
              "      <th>satellite</th>\n",
              "      <th>confidence</th>\n",
              "      <th>bright_t31</th>\n",
              "      <th>frp</th>\n",
              "      <th>daynight</th>\n",
              "      <th>type_0</th>\n",
              "      <th>type_2</th>\n",
              "      <th>type_3</th>\n",
              "      <th>scan_binned</th>\n",
              "    </tr>\n",
              "  </thead>\n",
              "  <tbody>\n",
              "    <tr>\n",
              "      <th>0</th>\n",
              "      <td>36.7330</td>\n",
              "      <td>36.2099</td>\n",
              "      <td>304.4</td>\n",
              "      <td>1.1</td>\n",
              "      <td>2020-01-10</td>\n",
              "      <td>1948</td>\n",
              "      <td>1</td>\n",
              "      <td>60</td>\n",
              "      <td>280.9</td>\n",
              "      <td>10.8</td>\n",
              "      <td>0</td>\n",
              "      <td>0</td>\n",
              "      <td>1</td>\n",
              "      <td>0</td>\n",
              "      <td>2</td>\n",
              "    </tr>\n",
              "    <tr>\n",
              "      <th>1</th>\n",
              "      <td>38.0335</td>\n",
              "      <td>41.4860</td>\n",
              "      <td>302.1</td>\n",
              "      <td>3.3</td>\n",
              "      <td>2020-01-11</td>\n",
              "      <td>1106</td>\n",
              "      <td>0</td>\n",
              "      <td>51</td>\n",
              "      <td>282.5</td>\n",
              "      <td>38.7</td>\n",
              "      <td>1</td>\n",
              "      <td>1</td>\n",
              "      <td>0</td>\n",
              "      <td>0</td>\n",
              "      <td>4</td>\n",
              "    </tr>\n",
              "    <tr>\n",
              "      <th>2</th>\n",
              "      <td>37.7370</td>\n",
              "      <td>37.5192</td>\n",
              "      <td>301.5</td>\n",
              "      <td>1.8</td>\n",
              "      <td>2020-01-11</td>\n",
              "      <td>1106</td>\n",
              "      <td>0</td>\n",
              "      <td>45</td>\n",
              "      <td>283.9</td>\n",
              "      <td>14.9</td>\n",
              "      <td>1</td>\n",
              "      <td>1</td>\n",
              "      <td>0</td>\n",
              "      <td>0</td>\n",
              "      <td>2</td>\n",
              "    </tr>\n",
              "    <tr>\n",
              "      <th>3</th>\n",
              "      <td>37.7441</td>\n",
              "      <td>37.5235</td>\n",
              "      <td>303.6</td>\n",
              "      <td>1.8</td>\n",
              "      <td>2020-01-11</td>\n",
              "      <td>1106</td>\n",
              "      <td>0</td>\n",
              "      <td>49</td>\n",
              "      <td>283.7</td>\n",
              "      <td>16.6</td>\n",
              "      <td>1</td>\n",
              "      <td>1</td>\n",
              "      <td>0</td>\n",
              "      <td>0</td>\n",
              "      <td>2</td>\n",
              "    </tr>\n",
              "    <tr>\n",
              "      <th>4</th>\n",
              "      <td>41.2646</td>\n",
              "      <td>31.4250</td>\n",
              "      <td>305.8</td>\n",
              "      <td>1.0</td>\n",
              "      <td>2020-01-11</td>\n",
              "      <td>1107</td>\n",
              "      <td>0</td>\n",
              "      <td>0</td>\n",
              "      <td>286.7</td>\n",
              "      <td>9.0</td>\n",
              "      <td>1</td>\n",
              "      <td>0</td>\n",
              "      <td>1</td>\n",
              "      <td>0</td>\n",
              "      <td>1</td>\n",
              "    </tr>\n",
              "  </tbody>\n",
              "</table>\n",
              "</div>"
            ],
            "text/plain": [
              "   latitude  longitude  brightness  scan  ... type_0  type_2  type_3  scan_binned\n",
              "0   36.7330    36.2099       304.4   1.1  ...      0       1       0            2\n",
              "1   38.0335    41.4860       302.1   3.3  ...      1       0       0            4\n",
              "2   37.7370    37.5192       301.5   1.8  ...      1       0       0            2\n",
              "3   37.7441    37.5235       303.6   1.8  ...      1       0       0            2\n",
              "4   41.2646    31.4250       305.8   1.0  ...      0       1       0            1\n",
              "\n",
              "[5 rows x 15 columns]"
            ]
          },
          "metadata": {},
          "execution_count": 19
        }
      ]
    },
    {
      "cell_type": "code",
      "source": [
        "df = df.drop([\"scan\"], axis=1)\n",
        "\n",
        "df.head()"
      ],
      "metadata": {
        "colab": {
          "base_uri": "https://localhost:8080/",
          "height": 206
        },
        "id": "VfmQ1Nf508Sh",
        "outputId": "f3d65028-5b7d-4bca-c750-9ed2b88fac3c"
      },
      "execution_count": null,
      "outputs": [
        {
          "output_type": "execute_result",
          "data": {
            "text/html": [
              "<div>\n",
              "<style scoped>\n",
              "    .dataframe tbody tr th:only-of-type {\n",
              "        vertical-align: middle;\n",
              "    }\n",
              "\n",
              "    .dataframe tbody tr th {\n",
              "        vertical-align: top;\n",
              "    }\n",
              "\n",
              "    .dataframe thead th {\n",
              "        text-align: right;\n",
              "    }\n",
              "</style>\n",
              "<table border=\"1\" class=\"dataframe\">\n",
              "  <thead>\n",
              "    <tr style=\"text-align: right;\">\n",
              "      <th></th>\n",
              "      <th>latitude</th>\n",
              "      <th>longitude</th>\n",
              "      <th>brightness</th>\n",
              "      <th>acq_date</th>\n",
              "      <th>acq_time</th>\n",
              "      <th>satellite</th>\n",
              "      <th>confidence</th>\n",
              "      <th>bright_t31</th>\n",
              "      <th>frp</th>\n",
              "      <th>daynight</th>\n",
              "      <th>type_0</th>\n",
              "      <th>type_2</th>\n",
              "      <th>type_3</th>\n",
              "      <th>scan_binned</th>\n",
              "    </tr>\n",
              "  </thead>\n",
              "  <tbody>\n",
              "    <tr>\n",
              "      <th>0</th>\n",
              "      <td>36.7330</td>\n",
              "      <td>36.2099</td>\n",
              "      <td>304.4</td>\n",
              "      <td>2020-01-10</td>\n",
              "      <td>1948</td>\n",
              "      <td>1</td>\n",
              "      <td>60</td>\n",
              "      <td>280.9</td>\n",
              "      <td>10.8</td>\n",
              "      <td>0</td>\n",
              "      <td>0</td>\n",
              "      <td>1</td>\n",
              "      <td>0</td>\n",
              "      <td>2</td>\n",
              "    </tr>\n",
              "    <tr>\n",
              "      <th>1</th>\n",
              "      <td>38.0335</td>\n",
              "      <td>41.4860</td>\n",
              "      <td>302.1</td>\n",
              "      <td>2020-01-11</td>\n",
              "      <td>1106</td>\n",
              "      <td>0</td>\n",
              "      <td>51</td>\n",
              "      <td>282.5</td>\n",
              "      <td>38.7</td>\n",
              "      <td>1</td>\n",
              "      <td>1</td>\n",
              "      <td>0</td>\n",
              "      <td>0</td>\n",
              "      <td>4</td>\n",
              "    </tr>\n",
              "    <tr>\n",
              "      <th>2</th>\n",
              "      <td>37.7370</td>\n",
              "      <td>37.5192</td>\n",
              "      <td>301.5</td>\n",
              "      <td>2020-01-11</td>\n",
              "      <td>1106</td>\n",
              "      <td>0</td>\n",
              "      <td>45</td>\n",
              "      <td>283.9</td>\n",
              "      <td>14.9</td>\n",
              "      <td>1</td>\n",
              "      <td>1</td>\n",
              "      <td>0</td>\n",
              "      <td>0</td>\n",
              "      <td>2</td>\n",
              "    </tr>\n",
              "    <tr>\n",
              "      <th>3</th>\n",
              "      <td>37.7441</td>\n",
              "      <td>37.5235</td>\n",
              "      <td>303.6</td>\n",
              "      <td>2020-01-11</td>\n",
              "      <td>1106</td>\n",
              "      <td>0</td>\n",
              "      <td>49</td>\n",
              "      <td>283.7</td>\n",
              "      <td>16.6</td>\n",
              "      <td>1</td>\n",
              "      <td>1</td>\n",
              "      <td>0</td>\n",
              "      <td>0</td>\n",
              "      <td>2</td>\n",
              "    </tr>\n",
              "    <tr>\n",
              "      <th>4</th>\n",
              "      <td>41.2646</td>\n",
              "      <td>31.4250</td>\n",
              "      <td>305.8</td>\n",
              "      <td>2020-01-11</td>\n",
              "      <td>1107</td>\n",
              "      <td>0</td>\n",
              "      <td>0</td>\n",
              "      <td>286.7</td>\n",
              "      <td>9.0</td>\n",
              "      <td>1</td>\n",
              "      <td>0</td>\n",
              "      <td>1</td>\n",
              "      <td>0</td>\n",
              "      <td>1</td>\n",
              "    </tr>\n",
              "  </tbody>\n",
              "</table>\n",
              "</div>"
            ],
            "text/plain": [
              "   latitude  longitude  brightness  ... type_2  type_3  scan_binned\n",
              "0   36.7330    36.2099       304.4  ...      1       0            2\n",
              "1   38.0335    41.4860       302.1  ...      0       0            4\n",
              "2   37.7370    37.5192       301.5  ...      0       0            2\n",
              "3   37.7441    37.5235       303.6  ...      0       0            2\n",
              "4   41.2646    31.4250       305.8  ...      1       0            1\n",
              "\n",
              "[5 rows x 14 columns]"
            ]
          },
          "metadata": {},
          "execution_count": 20
        }
      ]
    },
    {
      "cell_type": "code",
      "source": [
        "df['acq_date'] = pd.to_datetime(df['acq_date'])\n",
        "\n",
        "df.head()"
      ],
      "metadata": {
        "colab": {
          "base_uri": "https://localhost:8080/",
          "height": 206
        },
        "id": "1x6qRr3B0EEh",
        "outputId": "e79ce7cc-6d5a-44f1-f954-13c16a2bd06f"
      },
      "execution_count": null,
      "outputs": [
        {
          "output_type": "execute_result",
          "data": {
            "text/html": [
              "<div>\n",
              "<style scoped>\n",
              "    .dataframe tbody tr th:only-of-type {\n",
              "        vertical-align: middle;\n",
              "    }\n",
              "\n",
              "    .dataframe tbody tr th {\n",
              "        vertical-align: top;\n",
              "    }\n",
              "\n",
              "    .dataframe thead th {\n",
              "        text-align: right;\n",
              "    }\n",
              "</style>\n",
              "<table border=\"1\" class=\"dataframe\">\n",
              "  <thead>\n",
              "    <tr style=\"text-align: right;\">\n",
              "      <th></th>\n",
              "      <th>latitude</th>\n",
              "      <th>longitude</th>\n",
              "      <th>brightness</th>\n",
              "      <th>acq_date</th>\n",
              "      <th>acq_time</th>\n",
              "      <th>satellite</th>\n",
              "      <th>confidence</th>\n",
              "      <th>bright_t31</th>\n",
              "      <th>frp</th>\n",
              "      <th>daynight</th>\n",
              "      <th>type_0</th>\n",
              "      <th>type_2</th>\n",
              "      <th>type_3</th>\n",
              "      <th>scan_binned</th>\n",
              "    </tr>\n",
              "  </thead>\n",
              "  <tbody>\n",
              "    <tr>\n",
              "      <th>0</th>\n",
              "      <td>36.7330</td>\n",
              "      <td>36.2099</td>\n",
              "      <td>304.4</td>\n",
              "      <td>2020-01-10</td>\n",
              "      <td>1948</td>\n",
              "      <td>1</td>\n",
              "      <td>60</td>\n",
              "      <td>280.9</td>\n",
              "      <td>10.8</td>\n",
              "      <td>0</td>\n",
              "      <td>0</td>\n",
              "      <td>1</td>\n",
              "      <td>0</td>\n",
              "      <td>2</td>\n",
              "    </tr>\n",
              "    <tr>\n",
              "      <th>1</th>\n",
              "      <td>38.0335</td>\n",
              "      <td>41.4860</td>\n",
              "      <td>302.1</td>\n",
              "      <td>2020-01-11</td>\n",
              "      <td>1106</td>\n",
              "      <td>0</td>\n",
              "      <td>51</td>\n",
              "      <td>282.5</td>\n",
              "      <td>38.7</td>\n",
              "      <td>1</td>\n",
              "      <td>1</td>\n",
              "      <td>0</td>\n",
              "      <td>0</td>\n",
              "      <td>4</td>\n",
              "    </tr>\n",
              "    <tr>\n",
              "      <th>2</th>\n",
              "      <td>37.7370</td>\n",
              "      <td>37.5192</td>\n",
              "      <td>301.5</td>\n",
              "      <td>2020-01-11</td>\n",
              "      <td>1106</td>\n",
              "      <td>0</td>\n",
              "      <td>45</td>\n",
              "      <td>283.9</td>\n",
              "      <td>14.9</td>\n",
              "      <td>1</td>\n",
              "      <td>1</td>\n",
              "      <td>0</td>\n",
              "      <td>0</td>\n",
              "      <td>2</td>\n",
              "    </tr>\n",
              "    <tr>\n",
              "      <th>3</th>\n",
              "      <td>37.7441</td>\n",
              "      <td>37.5235</td>\n",
              "      <td>303.6</td>\n",
              "      <td>2020-01-11</td>\n",
              "      <td>1106</td>\n",
              "      <td>0</td>\n",
              "      <td>49</td>\n",
              "      <td>283.7</td>\n",
              "      <td>16.6</td>\n",
              "      <td>1</td>\n",
              "      <td>1</td>\n",
              "      <td>0</td>\n",
              "      <td>0</td>\n",
              "      <td>2</td>\n",
              "    </tr>\n",
              "    <tr>\n",
              "      <th>4</th>\n",
              "      <td>41.2646</td>\n",
              "      <td>31.4250</td>\n",
              "      <td>305.8</td>\n",
              "      <td>2020-01-11</td>\n",
              "      <td>1107</td>\n",
              "      <td>0</td>\n",
              "      <td>0</td>\n",
              "      <td>286.7</td>\n",
              "      <td>9.0</td>\n",
              "      <td>1</td>\n",
              "      <td>0</td>\n",
              "      <td>1</td>\n",
              "      <td>0</td>\n",
              "      <td>1</td>\n",
              "    </tr>\n",
              "  </tbody>\n",
              "</table>\n",
              "</div>"
            ],
            "text/plain": [
              "   latitude  longitude  brightness  ... type_2  type_3  scan_binned\n",
              "0   36.7330    36.2099       304.4  ...      1       0            2\n",
              "1   38.0335    41.4860       302.1  ...      0       0            4\n",
              "2   37.7370    37.5192       301.5  ...      0       0            2\n",
              "3   37.7441    37.5235       303.6  ...      0       0            2\n",
              "4   41.2646    31.4250       305.8  ...      1       0            1\n",
              "\n",
              "[5 rows x 14 columns]"
            ]
          },
          "metadata": {},
          "execution_count": 21
        }
      ]
    },
    {
      "cell_type": "code",
      "source": [
        "df['year'] = df['acq_date'].dt.year\n",
        "df['month'] = df['acq_date'].dt.month\n",
        "df['day'] = df['acq_date'].dt.day\n",
        "\n",
        "df.head()"
      ],
      "metadata": {
        "colab": {
          "base_uri": "https://localhost:8080/",
          "height": 313
        },
        "id": "UYKR0-5F0q6u",
        "outputId": "5fec71d6-d4d9-4722-a72d-fdd95695bb86"
      },
      "execution_count": null,
      "outputs": [
        {
          "output_type": "execute_result",
          "data": {
            "text/html": [
              "<div>\n",
              "<style scoped>\n",
              "    .dataframe tbody tr th:only-of-type {\n",
              "        vertical-align: middle;\n",
              "    }\n",
              "\n",
              "    .dataframe tbody tr th {\n",
              "        vertical-align: top;\n",
              "    }\n",
              "\n",
              "    .dataframe thead th {\n",
              "        text-align: right;\n",
              "    }\n",
              "</style>\n",
              "<table border=\"1\" class=\"dataframe\">\n",
              "  <thead>\n",
              "    <tr style=\"text-align: right;\">\n",
              "      <th></th>\n",
              "      <th>latitude</th>\n",
              "      <th>longitude</th>\n",
              "      <th>brightness</th>\n",
              "      <th>acq_date</th>\n",
              "      <th>acq_time</th>\n",
              "      <th>satellite</th>\n",
              "      <th>confidence</th>\n",
              "      <th>bright_t31</th>\n",
              "      <th>frp</th>\n",
              "      <th>daynight</th>\n",
              "      <th>type_0</th>\n",
              "      <th>type_2</th>\n",
              "      <th>type_3</th>\n",
              "      <th>scan_binned</th>\n",
              "      <th>year</th>\n",
              "      <th>month</th>\n",
              "      <th>day</th>\n",
              "    </tr>\n",
              "  </thead>\n",
              "  <tbody>\n",
              "    <tr>\n",
              "      <th>0</th>\n",
              "      <td>36.7330</td>\n",
              "      <td>36.2099</td>\n",
              "      <td>304.4</td>\n",
              "      <td>2020-01-10</td>\n",
              "      <td>1948</td>\n",
              "      <td>1</td>\n",
              "      <td>60</td>\n",
              "      <td>280.9</td>\n",
              "      <td>10.8</td>\n",
              "      <td>0</td>\n",
              "      <td>0</td>\n",
              "      <td>1</td>\n",
              "      <td>0</td>\n",
              "      <td>2</td>\n",
              "      <td>2020</td>\n",
              "      <td>1</td>\n",
              "      <td>10</td>\n",
              "    </tr>\n",
              "    <tr>\n",
              "      <th>1</th>\n",
              "      <td>38.0335</td>\n",
              "      <td>41.4860</td>\n",
              "      <td>302.1</td>\n",
              "      <td>2020-01-11</td>\n",
              "      <td>1106</td>\n",
              "      <td>0</td>\n",
              "      <td>51</td>\n",
              "      <td>282.5</td>\n",
              "      <td>38.7</td>\n",
              "      <td>1</td>\n",
              "      <td>1</td>\n",
              "      <td>0</td>\n",
              "      <td>0</td>\n",
              "      <td>4</td>\n",
              "      <td>2020</td>\n",
              "      <td>1</td>\n",
              "      <td>11</td>\n",
              "    </tr>\n",
              "    <tr>\n",
              "      <th>2</th>\n",
              "      <td>37.7370</td>\n",
              "      <td>37.5192</td>\n",
              "      <td>301.5</td>\n",
              "      <td>2020-01-11</td>\n",
              "      <td>1106</td>\n",
              "      <td>0</td>\n",
              "      <td>45</td>\n",
              "      <td>283.9</td>\n",
              "      <td>14.9</td>\n",
              "      <td>1</td>\n",
              "      <td>1</td>\n",
              "      <td>0</td>\n",
              "      <td>0</td>\n",
              "      <td>2</td>\n",
              "      <td>2020</td>\n",
              "      <td>1</td>\n",
              "      <td>11</td>\n",
              "    </tr>\n",
              "    <tr>\n",
              "      <th>3</th>\n",
              "      <td>37.7441</td>\n",
              "      <td>37.5235</td>\n",
              "      <td>303.6</td>\n",
              "      <td>2020-01-11</td>\n",
              "      <td>1106</td>\n",
              "      <td>0</td>\n",
              "      <td>49</td>\n",
              "      <td>283.7</td>\n",
              "      <td>16.6</td>\n",
              "      <td>1</td>\n",
              "      <td>1</td>\n",
              "      <td>0</td>\n",
              "      <td>0</td>\n",
              "      <td>2</td>\n",
              "      <td>2020</td>\n",
              "      <td>1</td>\n",
              "      <td>11</td>\n",
              "    </tr>\n",
              "    <tr>\n",
              "      <th>4</th>\n",
              "      <td>41.2646</td>\n",
              "      <td>31.4250</td>\n",
              "      <td>305.8</td>\n",
              "      <td>2020-01-11</td>\n",
              "      <td>1107</td>\n",
              "      <td>0</td>\n",
              "      <td>0</td>\n",
              "      <td>286.7</td>\n",
              "      <td>9.0</td>\n",
              "      <td>1</td>\n",
              "      <td>0</td>\n",
              "      <td>1</td>\n",
              "      <td>0</td>\n",
              "      <td>1</td>\n",
              "      <td>2020</td>\n",
              "      <td>1</td>\n",
              "      <td>11</td>\n",
              "    </tr>\n",
              "  </tbody>\n",
              "</table>\n",
              "</div>"
            ],
            "text/plain": [
              "   latitude  longitude  brightness   acq_date  ...  scan_binned  year  month  day\n",
              "0   36.7330    36.2099       304.4 2020-01-10  ...            2  2020      1   10\n",
              "1   38.0335    41.4860       302.1 2020-01-11  ...            4  2020      1   11\n",
              "2   37.7370    37.5192       301.5 2020-01-11  ...            2  2020      1   11\n",
              "3   37.7441    37.5235       303.6 2020-01-11  ...            2  2020      1   11\n",
              "4   41.2646    31.4250       305.8 2020-01-11  ...            1  2020      1   11\n",
              "\n",
              "[5 rows x 17 columns]"
            ]
          },
          "metadata": {},
          "execution_count": 22
        }
      ]
    },
    {
      "cell_type": "code",
      "source": [
        "df = df.drop([\"acq_date\", \"acq_time\", \"bright_t31\"], axis=1)\n",
        "df.head()"
      ],
      "metadata": {
        "colab": {
          "base_uri": "https://localhost:8080/",
          "height": 206
        },
        "id": "JvwkckOn65hR",
        "outputId": "f924e764-3a4d-4f89-a820-f662c60f2139"
      },
      "execution_count": null,
      "outputs": [
        {
          "output_type": "execute_result",
          "data": {
            "text/html": [
              "<div>\n",
              "<style scoped>\n",
              "    .dataframe tbody tr th:only-of-type {\n",
              "        vertical-align: middle;\n",
              "    }\n",
              "\n",
              "    .dataframe tbody tr th {\n",
              "        vertical-align: top;\n",
              "    }\n",
              "\n",
              "    .dataframe thead th {\n",
              "        text-align: right;\n",
              "    }\n",
              "</style>\n",
              "<table border=\"1\" class=\"dataframe\">\n",
              "  <thead>\n",
              "    <tr style=\"text-align: right;\">\n",
              "      <th></th>\n",
              "      <th>latitude</th>\n",
              "      <th>longitude</th>\n",
              "      <th>brightness</th>\n",
              "      <th>satellite</th>\n",
              "      <th>confidence</th>\n",
              "      <th>frp</th>\n",
              "      <th>daynight</th>\n",
              "      <th>type_0</th>\n",
              "      <th>type_2</th>\n",
              "      <th>type_3</th>\n",
              "      <th>scan_binned</th>\n",
              "      <th>year</th>\n",
              "      <th>month</th>\n",
              "      <th>day</th>\n",
              "    </tr>\n",
              "  </thead>\n",
              "  <tbody>\n",
              "    <tr>\n",
              "      <th>0</th>\n",
              "      <td>36.7330</td>\n",
              "      <td>36.2099</td>\n",
              "      <td>304.4</td>\n",
              "      <td>1</td>\n",
              "      <td>60</td>\n",
              "      <td>10.8</td>\n",
              "      <td>0</td>\n",
              "      <td>0</td>\n",
              "      <td>1</td>\n",
              "      <td>0</td>\n",
              "      <td>2</td>\n",
              "      <td>2020</td>\n",
              "      <td>1</td>\n",
              "      <td>10</td>\n",
              "    </tr>\n",
              "    <tr>\n",
              "      <th>1</th>\n",
              "      <td>38.0335</td>\n",
              "      <td>41.4860</td>\n",
              "      <td>302.1</td>\n",
              "      <td>0</td>\n",
              "      <td>51</td>\n",
              "      <td>38.7</td>\n",
              "      <td>1</td>\n",
              "      <td>1</td>\n",
              "      <td>0</td>\n",
              "      <td>0</td>\n",
              "      <td>4</td>\n",
              "      <td>2020</td>\n",
              "      <td>1</td>\n",
              "      <td>11</td>\n",
              "    </tr>\n",
              "    <tr>\n",
              "      <th>2</th>\n",
              "      <td>37.7370</td>\n",
              "      <td>37.5192</td>\n",
              "      <td>301.5</td>\n",
              "      <td>0</td>\n",
              "      <td>45</td>\n",
              "      <td>14.9</td>\n",
              "      <td>1</td>\n",
              "      <td>1</td>\n",
              "      <td>0</td>\n",
              "      <td>0</td>\n",
              "      <td>2</td>\n",
              "      <td>2020</td>\n",
              "      <td>1</td>\n",
              "      <td>11</td>\n",
              "    </tr>\n",
              "    <tr>\n",
              "      <th>3</th>\n",
              "      <td>37.7441</td>\n",
              "      <td>37.5235</td>\n",
              "      <td>303.6</td>\n",
              "      <td>0</td>\n",
              "      <td>49</td>\n",
              "      <td>16.6</td>\n",
              "      <td>1</td>\n",
              "      <td>1</td>\n",
              "      <td>0</td>\n",
              "      <td>0</td>\n",
              "      <td>2</td>\n",
              "      <td>2020</td>\n",
              "      <td>1</td>\n",
              "      <td>11</td>\n",
              "    </tr>\n",
              "    <tr>\n",
              "      <th>4</th>\n",
              "      <td>41.2646</td>\n",
              "      <td>31.4250</td>\n",
              "      <td>305.8</td>\n",
              "      <td>0</td>\n",
              "      <td>0</td>\n",
              "      <td>9.0</td>\n",
              "      <td>1</td>\n",
              "      <td>0</td>\n",
              "      <td>1</td>\n",
              "      <td>0</td>\n",
              "      <td>1</td>\n",
              "      <td>2020</td>\n",
              "      <td>1</td>\n",
              "      <td>11</td>\n",
              "    </tr>\n",
              "  </tbody>\n",
              "</table>\n",
              "</div>"
            ],
            "text/plain": [
              "   latitude  longitude  brightness  satellite  ...  scan_binned  year  month  day\n",
              "0   36.7330    36.2099       304.4          1  ...            2  2020      1   10\n",
              "1   38.0335    41.4860       302.1          0  ...            4  2020      1   11\n",
              "2   37.7370    37.5192       301.5          0  ...            2  2020      1   11\n",
              "3   37.7441    37.5235       303.6          0  ...            2  2020      1   11\n",
              "4   41.2646    31.4250       305.8          0  ...            1  2020      1   11\n",
              "\n",
              "[5 rows x 14 columns]"
            ]
          },
          "metadata": {},
          "execution_count": 23
        }
      ]
    },
    {
      "cell_type": "code",
      "source": [
        "x = df.drop([\"confidence\"], axis=1)\n",
        "y = df[\"confidence\"]"
      ],
      "metadata": {
        "id": "HLNv2bU41mqg"
      },
      "execution_count": null,
      "outputs": []
    },
    {
      "cell_type": "code",
      "source": [
        "x.shape"
      ],
      "metadata": {
        "colab": {
          "base_uri": "https://localhost:8080/"
        },
        "id": "XcZtBqpb6r3l",
        "outputId": "8d104000-5196-4c5a-ee9a-739e5dfffc36"
      },
      "execution_count": null,
      "outputs": [
        {
          "output_type": "execute_result",
          "data": {
            "text/plain": [
              "(8834, 13)"
            ]
          },
          "metadata": {},
          "execution_count": 30
        }
      ]
    },
    {
      "cell_type": "code",
      "source": [
        "x.head()"
      ],
      "metadata": {
        "colab": {
          "base_uri": "https://localhost:8080/",
          "height": 206
        },
        "id": "dxRi7j_543li",
        "outputId": "b8e9a8f5-3cb0-4e6b-d4bb-a2383a8a1f6d"
      },
      "execution_count": null,
      "outputs": [
        {
          "output_type": "execute_result",
          "data": {
            "text/html": [
              "<div>\n",
              "<style scoped>\n",
              "    .dataframe tbody tr th:only-of-type {\n",
              "        vertical-align: middle;\n",
              "    }\n",
              "\n",
              "    .dataframe tbody tr th {\n",
              "        vertical-align: top;\n",
              "    }\n",
              "\n",
              "    .dataframe thead th {\n",
              "        text-align: right;\n",
              "    }\n",
              "</style>\n",
              "<table border=\"1\" class=\"dataframe\">\n",
              "  <thead>\n",
              "    <tr style=\"text-align: right;\">\n",
              "      <th></th>\n",
              "      <th>latitude</th>\n",
              "      <th>longitude</th>\n",
              "      <th>brightness</th>\n",
              "      <th>satellite</th>\n",
              "      <th>frp</th>\n",
              "      <th>daynight</th>\n",
              "      <th>type_0</th>\n",
              "      <th>type_2</th>\n",
              "      <th>type_3</th>\n",
              "      <th>scan_binned</th>\n",
              "      <th>year</th>\n",
              "      <th>month</th>\n",
              "      <th>day</th>\n",
              "    </tr>\n",
              "  </thead>\n",
              "  <tbody>\n",
              "    <tr>\n",
              "      <th>0</th>\n",
              "      <td>36.7330</td>\n",
              "      <td>36.2099</td>\n",
              "      <td>304.4</td>\n",
              "      <td>1</td>\n",
              "      <td>10.8</td>\n",
              "      <td>0</td>\n",
              "      <td>0</td>\n",
              "      <td>1</td>\n",
              "      <td>0</td>\n",
              "      <td>2</td>\n",
              "      <td>2020</td>\n",
              "      <td>1</td>\n",
              "      <td>10</td>\n",
              "    </tr>\n",
              "    <tr>\n",
              "      <th>1</th>\n",
              "      <td>38.0335</td>\n",
              "      <td>41.4860</td>\n",
              "      <td>302.1</td>\n",
              "      <td>0</td>\n",
              "      <td>38.7</td>\n",
              "      <td>1</td>\n",
              "      <td>1</td>\n",
              "      <td>0</td>\n",
              "      <td>0</td>\n",
              "      <td>4</td>\n",
              "      <td>2020</td>\n",
              "      <td>1</td>\n",
              "      <td>11</td>\n",
              "    </tr>\n",
              "    <tr>\n",
              "      <th>2</th>\n",
              "      <td>37.7370</td>\n",
              "      <td>37.5192</td>\n",
              "      <td>301.5</td>\n",
              "      <td>0</td>\n",
              "      <td>14.9</td>\n",
              "      <td>1</td>\n",
              "      <td>1</td>\n",
              "      <td>0</td>\n",
              "      <td>0</td>\n",
              "      <td>2</td>\n",
              "      <td>2020</td>\n",
              "      <td>1</td>\n",
              "      <td>11</td>\n",
              "    </tr>\n",
              "    <tr>\n",
              "      <th>3</th>\n",
              "      <td>37.7441</td>\n",
              "      <td>37.5235</td>\n",
              "      <td>303.6</td>\n",
              "      <td>0</td>\n",
              "      <td>16.6</td>\n",
              "      <td>1</td>\n",
              "      <td>1</td>\n",
              "      <td>0</td>\n",
              "      <td>0</td>\n",
              "      <td>2</td>\n",
              "      <td>2020</td>\n",
              "      <td>1</td>\n",
              "      <td>11</td>\n",
              "    </tr>\n",
              "    <tr>\n",
              "      <th>4</th>\n",
              "      <td>41.2646</td>\n",
              "      <td>31.4250</td>\n",
              "      <td>305.8</td>\n",
              "      <td>0</td>\n",
              "      <td>9.0</td>\n",
              "      <td>1</td>\n",
              "      <td>0</td>\n",
              "      <td>1</td>\n",
              "      <td>0</td>\n",
              "      <td>1</td>\n",
              "      <td>2020</td>\n",
              "      <td>1</td>\n",
              "      <td>11</td>\n",
              "    </tr>\n",
              "  </tbody>\n",
              "</table>\n",
              "</div>"
            ],
            "text/plain": [
              "   latitude  longitude  brightness  satellite  ...  scan_binned  year  month  day\n",
              "0   36.7330    36.2099       304.4          1  ...            2  2020      1   10\n",
              "1   38.0335    41.4860       302.1          0  ...            4  2020      1   11\n",
              "2   37.7370    37.5192       301.5          0  ...            2  2020      1   11\n",
              "3   37.7441    37.5235       303.6          0  ...            2  2020      1   11\n",
              "4   41.2646    31.4250       305.8          0  ...            1  2020      1   11\n",
              "\n",
              "[5 rows x 13 columns]"
            ]
          },
          "metadata": {},
          "execution_count": 31
        }
      ]
    },
    {
      "cell_type": "code",
      "source": [
        "y"
      ],
      "metadata": {
        "colab": {
          "base_uri": "https://localhost:8080/"
        },
        "id": "f-htMqPg9bQl",
        "outputId": "e57b2ca3-de4d-4833-f994-82a51781d217"
      },
      "execution_count": null,
      "outputs": [
        {
          "output_type": "execute_result",
          "data": {
            "text/plain": [
              "0       60\n",
              "1       51\n",
              "2       45\n",
              "3       49\n",
              "4        0\n",
              "        ..\n",
              "8829    40\n",
              "8830    46\n",
              "8831    31\n",
              "8832    63\n",
              "8833    70\n",
              "Name: confidence, Length: 8834, dtype: int64"
            ]
          },
          "metadata": {},
          "execution_count": 40
        }
      ]
    },
    {
      "cell_type": "code",
      "source": [
        "plt.figure(figsize=(11,8))\n",
        "sns.heatmap(x.corr(),annot=True,cmap='viridis', linewidths=.5)"
      ],
      "metadata": {
        "colab": {
          "base_uri": "https://localhost:8080/",
          "height": 547
        },
        "id": "vMEJ_k1n5jHa",
        "outputId": "fb946e5c-666c-4703-ffbc-3904b89b222c"
      },
      "execution_count": null,
      "outputs": [
        {
          "output_type": "execute_result",
          "data": {
            "text/plain": [
              "<matplotlib.axes._subplots.AxesSubplot at 0x7ff25ea83d90>"
            ]
          },
          "metadata": {},
          "execution_count": 32
        },
        {
          "output_type": "display_data",
          "data": {
            "image/png": "[encoded data removed]",
            "text/plain": [
              "<Figure size 792x576 with 2 Axes>"
            ]
          },
          "metadata": {
            "needs_background": "light"
          }
        }
      ]
    },
    {
      "cell_type": "code",
      "source": [
        "x_train, x_test, y_train, y_test = train_test_split(x,y, test_size=0.25, random_state=0)"
      ],
      "metadata": {
        "id": "1xAo6J-V526O"
      },
      "execution_count": null,
      "outputs": []
    },
    {
      "cell_type": "code",
      "source": [
        "model = RandomForestRegressor(n_estimators=200, random_state=42, n_jobs=-1)\n",
        "model.fit(x_train, y_train)"
      ],
      "metadata": {
        "colab": {
          "base_uri": "https://localhost:8080/"
        },
        "id": "AHWMRIkr6YcD",
        "outputId": "e5315ee0-e905-4505-952a-4a2b12bfcb36"
      },
      "execution_count": null,
      "outputs": [
        {
          "output_type": "execute_result",
          "data": {
            "text/plain": [
              "RandomForestRegressor(n_estimators=200, n_jobs=-1, random_state=42)"
            ]
          },
          "metadata": {},
          "execution_count": 45
        }
      ]
    },
    {
      "cell_type": "code",
      "source": [
        "y_pred = model.predict(x_test)"
      ],
      "metadata": {
        "id": "viV5G02F8dQG"
      },
      "execution_count": null,
      "outputs": []
    },
    {
      "cell_type": "code",
      "source": [
        "accuracy_score = round(model.score(x_train, y_train)*100,2)\n",
        "print(\"accuracy_score:\",accuracy_score)"
      ],
      "metadata": {
        "colab": {
          "base_uri": "https://localhost:8080/"
        },
        "id": "0NrqibXF8i-1",
        "outputId": "b27755fa-0f6c-49ff-de9e-a95ffc009673"
      },
      "execution_count": null,
      "outputs": [
        {
          "output_type": "stream",
          "name": "stdout",
          "text": [
            "accuracy_score: 95.71\n"
          ]
        }
      ]
    },
    {
      "cell_type": "code",
      "source": [
        "accuracy_score1 = round(model.score(x_test, y_test)*100,2)\n",
        "print(\"accuracy_score1:\",accuracy_score1)"
      ],
      "metadata": {
        "colab": {
          "base_uri": "https://localhost:8080/"
        },
        "id": "-9somPQT863C",
        "outputId": "9ecf2831-e506-4c21-925c-2e8d332b1562"
      },
      "execution_count": null,
      "outputs": [
        {
          "output_type": "stream",
          "name": "stdout",
          "text": [
            "accuracy_score1: 70.99\n"
          ]
        }
      ]
    },
    {
      "cell_type": "code",
      "source": [
        "\"\"\"\n",
        "import pickle\n",
        "\n",
        "###saved_model = pickle.dump(model,open(\"forest.pickle\", 'wb'))"
      ],
      "metadata": {
        "id": "hpKqt715-ITE"
      },
      "execution_count": null,
      "outputs": []
    },
    {
      "cell_type": "code",
      "source": [
        "model.get_params()"
      ],
      "metadata": {
        "colab": {
          "base_uri": "https://localhost:8080/"
        },
        "id": "v_z7Holg-_Or",
        "outputId": "6819f538-b030-48c7-db45-9ec0f518ef6e"
      },
      "execution_count": null,
      "outputs": [
        {
          "output_type": "execute_result",
          "data": {
            "text/plain": [
              "{'bootstrap': True,\n",
              " 'ccp_alpha': 0.0,\n",
              " 'criterion': 'squared_error',\n",
              " 'max_depth': None,\n",
              " 'max_features': 'auto',\n",
              " 'max_leaf_nodes': None,\n",
              " 'max_samples': None,\n",
              " 'min_impurity_decrease': 0.0,\n",
              " 'min_samples_leaf': 1,\n",
              " 'min_samples_split': 2,\n",
              " 'min_weight_fraction_leaf': 0.0,\n",
              " 'n_estimators': 200,\n",
              " 'n_jobs': -1,\n",
              " 'oob_score': False,\n",
              " 'random_state': 42,\n",
              " 'verbose': 0,\n",
              " 'warm_start': False}"
            ]
          },
          "metadata": {},
          "execution_count": 49
        }
      ]
    },
    {
      "cell_type": "code",
      "source": [
        "from sklearn.model_selection import RandomizedSearchCV\n",
        "\n",
        "##number of tree in random forest\n",
        "n_estimators = [int(x) for x in np.linspace(start = 100, stop = 300, num = 20)]\n",
        "\n",
        "##number of feature to consider at every split\n",
        "max_features = [\"auto\", \"sqrt\"]\n",
        "\n",
        "##maximum number of level in tree\n",
        "max_depth = [int(x) for x in np.linspace(15, 35, num = 7)]\n",
        "max_depth.append(None)\n",
        "\n",
        "##minimum number of sample required to split a node\n",
        "min_samples_split = [2, 3, 5]\n",
        "\n",
        "##minimum number of sample required to each leaf node\n",
        "min_samples_leaf = [1, 2, 4]\n",
        "\n",
        "##create random_ grid\n",
        "random_grid = {'n_estimators': n_estimators,\n",
        "               'max_features': max_features,\n",
        "               'max_depth': max_depth,\n",
        "               'min_samples_split': min_samples_split,\n",
        "               'min_samples_leaf': min_samples_leaf,}\n",
        "              \n",
        "print(random_grid)"
      ],
      "metadata": {
        "colab": {
          "base_uri": "https://localhost:8080/"
        },
        "id": "hNCWqNB4_Bu5",
        "outputId": "3389641e-5baf-482a-aad5-88501fe2cef7"
      },
      "execution_count": null,
      "outputs": [
        {
          "output_type": "stream",
          "name": "stdout",
          "text": [
            "{'n_estimators': [100, 110, 121, 131, 142, 152, 163, 173, 184, 194, 205, 215, 226, 236, 247, 257, 268, 278, 289, 300], 'max_features': ['auto', 'sqrt'], 'max_depth': [15, 18, 21, 25, 28, 31, 35, None], 'min_samples_split': [2, 3, 5], 'min_samples_leaf': [1, 2, 4]}\n"
          ]
        }
      ]
    },
    {
      "cell_type": "code",
      "source": [
        "random = RandomizedSearchCV(estimator=model, param_distributions=random_grid,scoring='neg_mean_squared_error', n_iter=30, cv= 3, verbose=2, random_state=42)\n",
        "random.fit(x_train, y_train)"
      ],
      "metadata": {
        "colab": {
          "base_uri": "https://localhost:8080/"
        },
        "id": "dwUxkELsBe7I",
        "outputId": "d4ae5583-e25b-4134-ecbc-d7db9c443a53"
      },
      "execution_count": null,
      "outputs": [
        {
          "output_type": "stream",
          "name": "stdout",
          "text": [
            "Fitting 3 folds for each of 30 candidates, totalling 90 fits\n",
            "[CV] END max_depth=18, max_features=auto, min_samples_leaf=2, min_samples_split=5, n_estimators=215; total time=   4.8s\n",
            "[CV] END max_depth=18, max_features=auto, min_samples_leaf=2, min_samples_split=5, n_estimators=215; total time=   3.3s\n",
            "[CV] END max_depth=18, max_features=auto, min_samples_leaf=2, min_samples_split=5, n_estimators=215; total time=   3.4s\n",
            "[CV] END max_depth=28, max_features=auto, min_samples_leaf=1, min_samples_split=2, n_estimators=236; total time=   4.3s\n",
            "[CV] END max_depth=28, max_features=auto, min_samples_leaf=1, min_samples_split=2, n_estimators=236; total time=   4.4s\n",
            "[CV] END max_depth=28, max_features=auto, min_samples_leaf=1, min_samples_split=2, n_estimators=236; total time=   4.2s\n",
            "[CV] END max_depth=35, max_features=sqrt, min_samples_leaf=1, min_samples_split=3, n_estimators=278; total time=   2.2s\n",
            "[CV] END max_depth=35, max_features=sqrt, min_samples_leaf=1, min_samples_split=3, n_estimators=278; total time=   2.2s\n",
            "[CV] END max_depth=35, max_features=sqrt, min_samples_leaf=1, min_samples_split=3, n_estimators=278; total time=   2.2s\n",
            "[CV] END max_depth=28, max_features=auto, min_samples_leaf=4, min_samples_split=5, n_estimators=110; total time=   1.5s\n",
            "[CV] END max_depth=28, max_features=auto, min_samples_leaf=4, min_samples_split=5, n_estimators=110; total time=   1.5s\n",
            "[CV] END max_depth=28, max_features=auto, min_samples_leaf=4, min_samples_split=5, n_estimators=110; total time=   1.5s\n",
            "[CV] END max_depth=25, max_features=auto, min_samples_leaf=1, min_samples_split=2, n_estimators=247; total time=   4.6s\n",
            "[CV] END max_depth=25, max_features=auto, min_samples_leaf=1, min_samples_split=2, n_estimators=247; total time=   4.6s\n",
            "[CV] END max_depth=25, max_features=auto, min_samples_leaf=1, min_samples_split=2, n_estimators=247; total time=   4.3s\n",
            "[CV] END max_depth=25, max_features=auto, min_samples_leaf=4, min_samples_split=5, n_estimators=257; total time=   3.3s\n",
            "[CV] END max_depth=25, max_features=auto, min_samples_leaf=4, min_samples_split=5, n_estimators=257; total time=   3.5s\n",
            "[CV] END max_depth=25, max_features=auto, min_samples_leaf=4, min_samples_split=5, n_estimators=257; total time=   3.4s\n",
            "[CV] END max_depth=25, max_features=auto, min_samples_leaf=1, min_samples_split=5, n_estimators=184; total time=   3.0s\n",
            "[CV] END max_depth=25, max_features=auto, min_samples_leaf=1, min_samples_split=5, n_estimators=184; total time=   2.9s\n",
            "[CV] END max_depth=25, max_features=auto, min_samples_leaf=1, min_samples_split=5, n_estimators=184; total time=   2.9s\n",
            "[CV] END max_depth=35, max_features=auto, min_samples_leaf=2, min_samples_split=3, n_estimators=226; total time=   3.5s\n",
            "[CV] END max_depth=35, max_features=auto, min_samples_leaf=2, min_samples_split=3, n_estimators=226; total time=   3.4s\n",
            "[CV] END max_depth=35, max_features=auto, min_samples_leaf=2, min_samples_split=3, n_estimators=226; total time=   3.6s\n",
            "[CV] END max_depth=21, max_features=sqrt, min_samples_leaf=1, min_samples_split=5, n_estimators=152; total time=   1.2s\n",
            "[CV] END max_depth=21, max_features=sqrt, min_samples_leaf=1, min_samples_split=5, n_estimators=152; total time=   1.2s\n",
            "[CV] END max_depth=21, max_features=sqrt, min_samples_leaf=1, min_samples_split=5, n_estimators=152; total time=   1.2s\n",
            "[CV] END max_depth=31, max_features=auto, min_samples_leaf=1, min_samples_split=2, n_estimators=100; total time=   1.9s\n",
            "[CV] END max_depth=31, max_features=auto, min_samples_leaf=1, min_samples_split=2, n_estimators=100; total time=   1.9s\n",
            "[CV] END max_depth=31, max_features=auto, min_samples_leaf=1, min_samples_split=2, n_estimators=100; total time=   1.9s\n",
            "[CV] END max_depth=None, max_features=sqrt, min_samples_leaf=2, min_samples_split=2, n_estimators=247; total time=   1.7s\n",
            "[CV] END max_depth=None, max_features=sqrt, min_samples_leaf=2, min_samples_split=2, n_estimators=247; total time=   1.7s\n",
            "[CV] END max_depth=None, max_features=sqrt, min_samples_leaf=2, min_samples_split=2, n_estimators=247; total time=   1.8s\n",
            "[CV] END max_depth=None, max_features=sqrt, min_samples_leaf=1, min_samples_split=3, n_estimators=173; total time=   1.4s\n",
            "[CV] END max_depth=None, max_features=sqrt, min_samples_leaf=1, min_samples_split=3, n_estimators=173; total time=   1.3s\n",
            "[CV] END max_depth=None, max_features=sqrt, min_samples_leaf=1, min_samples_split=3, n_estimators=173; total time=   1.4s\n",
            "[CV] END max_depth=18, max_features=auto, min_samples_leaf=1, min_samples_split=2, n_estimators=184; total time=   3.3s\n",
            "[CV] END max_depth=18, max_features=auto, min_samples_leaf=1, min_samples_split=2, n_estimators=184; total time=   3.1s\n",
            "[CV] END max_depth=18, max_features=auto, min_samples_leaf=1, min_samples_split=2, n_estimators=184; total time=   3.1s\n",
            "[CV] END max_depth=28, max_features=sqrt, min_samples_leaf=4, min_samples_split=3, n_estimators=100; total time=   0.7s\n",
            "[CV] END max_depth=28, max_features=sqrt, min_samples_leaf=4, min_samples_split=3, n_estimators=100; total time=   0.7s\n",
            "[CV] END max_depth=28, max_features=sqrt, min_samples_leaf=4, min_samples_split=3, n_estimators=100; total time=   0.7s\n",
            "[CV] END max_depth=21, max_features=auto, min_samples_leaf=2, min_samples_split=3, n_estimators=278; total time=   4.4s\n",
            "[CV] END max_depth=21, max_features=auto, min_samples_leaf=2, min_samples_split=3, n_estimators=278; total time=   4.5s\n",
            "[CV] END max_depth=21, max_features=auto, min_samples_leaf=2, min_samples_split=3, n_estimators=278; total time=   4.4s\n",
            "[CV] END max_depth=21, max_features=auto, min_samples_leaf=2, min_samples_split=2, n_estimators=110; total time=   1.7s\n",
            "[CV] END max_depth=21, max_features=auto, min_samples_leaf=2, min_samples_split=2, n_estimators=110; total time=   1.8s\n",
            "[CV] END max_depth=21, max_features=auto, min_samples_leaf=2, min_samples_split=2, n_estimators=110; total time=   1.8s\n",
            "[CV] END max_depth=18, max_features=auto, min_samples_leaf=4, min_samples_split=2, n_estimators=289; total time=   3.9s\n",
            "[CV] END max_depth=18, max_features=auto, min_samples_leaf=4, min_samples_split=2, n_estimators=289; total time=   4.0s\n",
            "[CV] END max_depth=18, max_features=auto, min_samples_leaf=4, min_samples_split=2, n_estimators=289; total time=   4.0s\n",
            "[CV] END max_depth=15, max_features=sqrt, min_samples_leaf=1, min_samples_split=5, n_estimators=300; total time=   2.0s\n",
            "[CV] END max_depth=15, max_features=sqrt, min_samples_leaf=1, min_samples_split=5, n_estimators=300; total time=   2.0s\n",
            "[CV] END max_depth=15, max_features=sqrt, min_samples_leaf=1, min_samples_split=5, n_estimators=300; total time=   2.0s\n",
            "[CV] END max_depth=15, max_features=sqrt, min_samples_leaf=4, min_samples_split=3, n_estimators=215; total time=   1.3s\n",
            "[CV] END max_depth=15, max_features=sqrt, min_samples_leaf=4, min_samples_split=3, n_estimators=215; total time=   1.4s\n",
            "[CV] END max_depth=15, max_features=sqrt, min_samples_leaf=4, min_samples_split=3, n_estimators=215; total time=   1.3s\n",
            "[CV] END max_depth=21, max_features=auto, min_samples_leaf=2, min_samples_split=5, n_estimators=289; total time=   4.4s\n",
            "[CV] END max_depth=21, max_features=auto, min_samples_leaf=2, min_samples_split=5, n_estimators=289; total time=   4.3s\n",
            "[CV] END max_depth=21, max_features=auto, min_samples_leaf=2, min_samples_split=5, n_estimators=289; total time=   4.3s\n",
            "[CV] END max_depth=21, max_features=sqrt, min_samples_leaf=1, min_samples_split=5, n_estimators=226; total time=   1.7s\n",
            "[CV] END max_depth=21, max_features=sqrt, min_samples_leaf=1, min_samples_split=5, n_estimators=226; total time=   1.5s\n",
            "[CV] END max_depth=21, max_features=sqrt, min_samples_leaf=1, min_samples_split=5, n_estimators=226; total time=   1.7s\n",
            "[CV] END max_depth=25, max_features=auto, min_samples_leaf=4, min_samples_split=3, n_estimators=110; total time=   1.6s\n",
            "[CV] END max_depth=25, max_features=auto, min_samples_leaf=4, min_samples_split=3, n_estimators=110; total time=   1.6s\n",
            "[CV] END max_depth=25, max_features=auto, min_samples_leaf=4, min_samples_split=3, n_estimators=110; total time=   1.5s\n",
            "[CV] END max_depth=25, max_features=sqrt, min_samples_leaf=1, min_samples_split=2, n_estimators=194; total time=   1.8s\n",
            "[CV] END max_depth=25, max_features=sqrt, min_samples_leaf=1, min_samples_split=2, n_estimators=194; total time=   1.7s\n",
            "[CV] END max_depth=25, max_features=sqrt, min_samples_leaf=1, min_samples_split=2, n_estimators=194; total time=   1.7s\n",
            "[CV] END max_depth=35, max_features=sqrt, min_samples_leaf=1, min_samples_split=3, n_estimators=257; total time=   2.0s\n",
            "[CV] END max_depth=35, max_features=sqrt, min_samples_leaf=1, min_samples_split=3, n_estimators=257; total time=   2.0s\n",
            "[CV] END max_depth=35, max_features=sqrt, min_samples_leaf=1, min_samples_split=3, n_estimators=257; total time=   2.0s\n",
            "[CV] END max_depth=28, max_features=sqrt, min_samples_leaf=4, min_samples_split=3, n_estimators=289; total time=   1.9s\n",
            "[CV] END max_depth=28, max_features=sqrt, min_samples_leaf=4, min_samples_split=3, n_estimators=289; total time=   1.8s\n",
            "[CV] END max_depth=28, max_features=sqrt, min_samples_leaf=4, min_samples_split=3, n_estimators=289; total time=   1.7s\n",
            "[CV] END max_depth=28, max_features=auto, min_samples_leaf=2, min_samples_split=2, n_estimators=278; total time=   4.4s\n",
            "[CV] END max_depth=28, max_features=auto, min_samples_leaf=2, min_samples_split=2, n_estimators=278; total time=   4.3s\n",
            "[CV] END max_depth=28, max_features=auto, min_samples_leaf=2, min_samples_split=2, n_estimators=278; total time=   4.4s\n",
            "[CV] END max_depth=31, max_features=sqrt, min_samples_leaf=1, min_samples_split=3, n_estimators=121; total time=   1.0s\n",
            "[CV] END max_depth=31, max_features=sqrt, min_samples_leaf=1, min_samples_split=3, n_estimators=121; total time=   1.0s\n",
            "[CV] END max_depth=31, max_features=sqrt, min_samples_leaf=1, min_samples_split=3, n_estimators=121; total time=   1.1s\n",
            "[CV] END max_depth=21, max_features=sqrt, min_samples_leaf=2, min_samples_split=5, n_estimators=205; total time=   1.3s\n",
            "[CV] END max_depth=21, max_features=sqrt, min_samples_leaf=2, min_samples_split=5, n_estimators=205; total time=   1.4s\n",
            "[CV] END max_depth=21, max_features=sqrt, min_samples_leaf=2, min_samples_split=5, n_estimators=205; total time=   1.3s\n",
            "[CV] END max_depth=28, max_features=sqrt, min_samples_leaf=4, min_samples_split=2, n_estimators=226; total time=   1.3s\n",
            "[CV] END max_depth=28, max_features=sqrt, min_samples_leaf=4, min_samples_split=2, n_estimators=226; total time=   1.3s\n",
            "[CV] END max_depth=28, max_features=sqrt, min_samples_leaf=4, min_samples_split=2, n_estimators=226; total time=   1.3s\n",
            "[CV] END max_depth=31, max_features=auto, min_samples_leaf=2, min_samples_split=5, n_estimators=247; total time=   3.7s\n",
            "[CV] END max_depth=31, max_features=auto, min_samples_leaf=2, min_samples_split=5, n_estimators=247; total time=   3.6s\n",
            "[CV] END max_depth=31, max_features=auto, min_samples_leaf=2, min_samples_split=5, n_estimators=247; total time=   3.6s\n"
          ]
        },
        {
          "output_type": "execute_result",
          "data": {
            "text/plain": [
              "RandomizedSearchCV(cv=3,\n",
              "                   estimator=RandomForestRegressor(n_estimators=200, n_jobs=-1,\n",
              "                                                   random_state=42),\n",
              "                   n_iter=30,\n",
              "                   param_distributions={'max_depth': [15, 18, 21, 25, 28, 31,\n",
              "                                                      35, None],\n",
              "                                        'max_features': ['auto', 'sqrt'],\n",
              "                                        'min_samples_leaf': [1, 2, 4],\n",
              "                                        'min_samples_split': [2, 3, 5],\n",
              "                                        'n_estimators': [100, 110, 121, 131,\n",
              "                                                         142, 152, 163, 173,\n",
              "                                                         184, 194, 205, 215,\n",
              "                                                         226, 236, 247, 257,\n",
              "                                                         268, 278, 289, 300]},\n",
              "                   random_state=42, scoring='neg_mean_squared_error',\n",
              "                   verbose=2)"
            ]
          },
          "metadata": {},
          "execution_count": 57
        }
      ]
    },
    {
      "cell_type": "code",
      "source": [
        "random.best_params_"
      ],
      "metadata": {
        "colab": {
          "base_uri": "https://localhost:8080/"
        },
        "id": "m6UGy6h-CPP4",
        "outputId": "b4fe2769-2d15-4721-9e93-838919ea7bf7"
      },
      "execution_count": null,
      "outputs": [
        {
          "output_type": "execute_result",
          "data": {
            "text/plain": [
              "{'max_depth': 35,\n",
              " 'max_features': 'sqrt',\n",
              " 'min_samples_leaf': 1,\n",
              " 'min_samples_split': 3,\n",
              " 'n_estimators': 278}"
            ]
          },
          "metadata": {},
          "execution_count": 58
        }
      ]
    },
    {
      "cell_type": "code",
      "source": [
        "random_new = RandomForestRegressor(n_estimators=278, min_samples_split=3, min_samples_leaf=1, max_features='sqrt', max_depth=35, bootstrap=True)\n",
        "random_new.fit(x_train, y_train)"
      ],
      "metadata": {
        "colab": {
          "base_uri": "https://localhost:8080/"
        },
        "id": "fmWNJBG3EkHU",
        "outputId": "3c15c38c-9ddf-48d5-dc4f-e1cfdf84fa49"
      },
      "execution_count": null,
      "outputs": [
        {
          "output_type": "execute_result",
          "data": {
            "text/plain": [
              "RandomForestRegressor(max_depth=35, max_features='sqrt', min_samples_split=3,\n",
              "                      n_estimators=278)"
            ]
          },
          "metadata": {},
          "execution_count": 60
        }
      ]
    },
    {
      "cell_type": "code",
      "source": [
        "y_pred1 = random_new.predict(x_test)"
      ],
      "metadata": {
        "id": "-HSTfg3DFGm7"
      },
      "execution_count": null,
      "outputs": []
    },
    {
      "cell_type": "code",
      "source": [
        "new_accuracy_score = round(random_new.score(x_train, y_train)*100,2)\n",
        "print(\"accuracy_score:\",new_accuracy_score)"
      ],
      "metadata": {
        "colab": {
          "base_uri": "https://localhost:8080/"
        },
        "id": "8tW6UzIkFS-a",
        "outputId": "fcc87891-d426-43e7-f6de-344b41ad19ab"
      },
      "execution_count": null,
      "outputs": [
        {
          "output_type": "stream",
          "name": "stdout",
          "text": [
            "accuracy_score: 94.36\n"
          ]
        }
      ]
    },
    {
      "cell_type": "code",
      "source": [
        "new_accuracy_score1 = round(random_new.score(x_test, y_test)*100,2)\n",
        "print(\"accuracy_score:\",new_accuracy_score1)"
      ],
      "metadata": {
        "colab": {
          "base_uri": "https://localhost:8080/"
        },
        "id": "kTS2U73CFcMY",
        "outputId": "d0e748d1-936e-4294-85dc-e15fa706f91c"
      },
      "execution_count": null,
      "outputs": [
        {
          "output_type": "stream",
          "name": "stdout",
          "text": [
            "accuracy_score: 71.39\n"
          ]
        }
      ]
    },
    {
      "cell_type": "code",
      "source": [
        "import pickle\n",
        "\n",
        "saved_model = pickle.dump(random_new,open(\"forest.pickle\", 'wb'))"
      ],
      "metadata": {
        "id": "9n_LwKMcFmBp"
      },
      "execution_count": null,
      "outputs": []
    },
    {
      "cell_type": "code",
      "source": [
        "pip install bz2file"
      ],
      "metadata": {
        "colab": {
          "base_uri": "https://localhost:8080/"
        },
        "id": "SibSjpQkGC8u",
        "outputId": "cb60683d-c4e1-4976-e223-a30b853640bc"
      },
      "execution_count": null,
      "outputs": [
        {
          "output_type": "stream",
          "name": "stdout",
          "text": [
            "Collecting bz2file\n",
            "  Downloading bz2file-0.98.tar.gz (11 kB)\n",
            "Building wheels for collected packages: bz2file\n",
            "  Building wheel for bz2file (setup.py) ... \u001b[?25l\u001b[?25hdone\n",
            "  Created wheel for bz2file: filename=bz2file-0.98-py3-none-any.whl size=6883 sha256=c02ba8ffc8f88e50a60044280d07cb569d87f491f467226142d09d10155c0bea\n",
            "  Stored in directory: /root/.cache/pip/wheels/85/ce/8d/b5f76b602b16a8a39f2ded74189cf5f09fc4a87bea16c54a8b\n",
            "Successfully built bz2file\n",
            "Installing collected packages: bz2file\n",
            "Successfully installed bz2file-0.98\n"
          ]
        }
      ]
    },
    {
      "cell_type": "code",
      "source": [
        "import bz2\n",
        "\n",
        "compressionLevel = 9\n",
        "source_file = \"forest.pickle\"\n",
        "destination_file = 'forest.bz2'\n",
        "\n",
        "with open(source_file, 'rb') as data:\n",
        "  tarbz2contents = bz2.compress(data.read(), compressionLevel)\n",
        "\n",
        "fh = open(destination_file, \"wb\")\n",
        "fh.write(tarbz2contents)\n",
        "fh.close()"
      ],
      "metadata": {
        "id": "eOEmyPDhGWLO"
      },
      "execution_count": null,
      "outputs": []
    },
    {
      "cell_type": "code",
      "source": [
        ""
      ],
      "metadata": {
        "id": "klk-WHIEHbuq"
      },
      "execution_count": null,
      "outputs": []
    }
  ]
}